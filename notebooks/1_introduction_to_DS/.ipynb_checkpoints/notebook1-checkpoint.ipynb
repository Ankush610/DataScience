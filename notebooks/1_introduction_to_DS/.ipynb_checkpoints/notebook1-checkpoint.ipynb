{
 "cells": [
  {
   "cell_type": "markdown",
   "metadata": {},
   "source": [
    "# Intoduction to Data Science "
   ]
  },
  {
   "cell_type": "markdown",
   "metadata": {},
   "source": [
    "## <span style=\"color:#2E86C1\">1.1 What is Data Science?</span>\n",
    "\n",
    "- **<span style=\"color:#D35400\">Definition:</span>**  \n",
    "  Data Science is a field that uses scientific methods, algorithms, and systems to extract knowledge and insights from data. In simpler words, it’s about making sense of large amounts of data to find useful information and make better decisions.\n",
    "\n",
    "- **<span style=\"color:#D35400\">Scope:</span>**  \n",
    "  Data Science is a broad field that combines different areas:\n",
    "  - <span style=\"color:#28B463\"><b>Statistics</b></span>: Understanding how to collect, analyze, and interpret data.\n",
    "  - <span style=\"color:#28B463\"><b>Programming</b></span>: Using code (like Python) to process data.\n",
    "  - <span style=\"color:#28B463\"><b>Machine Learning</b></span>: Making machines (computers) learn from data to make predictions or decisions.\n",
    "  - <span style=\"color:#28B463\"><b>Data Visualization</b></span>: Presenting data in charts or graphs to make it easier to understand.\n",
    "\n",
    "---\n",
    "\n",
    "### <span style=\"color:#2E86C1\">Why is Data Science Important?</span>\n",
    "\n",
    "Data is everywhere today! Think about the huge amount of information on social media, in hospitals, or online stores.\n",
    "\n",
    "- **<span style=\"color:#D35400\">Data Science helps:</span>**\n",
    "  - Businesses understand customer behavior (e.g., what products are popular).\n",
    "  - Healthcare professionals predict diseases or recommend treatments.\n",
    "  - Technology companies build better products (like recommendation systems on Netflix or YouTube).\n",
    "\n",
    "Because we have more data than ever before, using Data Science to make sense of it is extremely important. Companies need it to stay competitive, governments use it to make better policies, and even individuals can use it to make decisions.\n",
    "\n",
    "---\n"
   ]
  },
  {
   "cell_type": "markdown",
   "metadata": {},
   "source": [
    "# Anaconda "
   ]
  },
  {
   "cell_type": "markdown",
   "metadata": {},
   "source": [
    "<span style=\"color:#2E86C1\">**What is Anaconda?**</span>\n",
    "\n",
    "Anaconda is a popular open-source distribution of Python and R, designed specifically for scientific computing and data science. It simplifies package management and deployment, making it easier to work with data science libraries and tools. Anaconda includes:\n",
    "\n",
    "- <span style=\"color:#28B463\">**Conda Package Manager**:</span>A tool for managing packages and environments, allowing users to easily install, update, and remove libraries.\n",
    "- <span style=\"color:#28B463\">**Integrated Development Environment (IDE)**:</span>Tools like Jupyter Notebook and Spyder are included, providing environments to write and execute code interactively.\n",
    "- <span style=\"color:#28B463\">**Pre-installed Libraries**:</span> Anaconda comes with many popular libraries for data science, including NumPy, pandas, Matplotlib, and SciPy, which save time on installation.\n",
    "\n",
    "<span style=\"color:#2E86C1\">**Purpose of Anaconda**</span>\n",
    "\n",
    "The purpose of Anaconda is to streamline the process of managing libraries and dependencies for data science projects. With Anaconda, users can:\n",
    "\n",
    "- Create isolated environments for different projects to avoid version conflicts.\n",
    "- Easily install and manage packages with a simple command.\n",
    "- Utilize Jupyter Notebook for interactive coding and data visualization.\n",
    "\n",
    "<span style=\"color:#2E86C1\">**How to Install Anaconda**</span>\n",
    "\n",
    "Follow these steps to install Anaconda on your computer:\n",
    "\n",
    "1. **Download the Installer**:\n",
    "   - Go to the [Anaconda Distribution page](https://www.anaconda.com/products/distribution).\n",
    "   - Choose the version compatible with your operating system (Windows, macOS, or Linux) and click the download button.\n",
    "\n",
    "2. **Run the Installer**:\n",
    "   - Locate the downloaded installer and run it.\n",
    "   - Follow the prompts in the installation wizard:\n",
    "     - Accept the license agreement.\n",
    "     - Choose whether to install for \"Just Me\" or \"All Users.\"\n",
    "     - Select the installation location (the default is usually fine).\n",
    "\n",
    "3. **Advanced Options** (Optional):\n",
    "   - During the installation, you may see options to add Anaconda to your system PATH variable. It's generally recommended to leave this unchecked to avoid potential conflicts.\n",
    "\n",
    "4. **Complete Installation**:\n",
    "   - Click \"Install\" and wait for the installation to complete.\n",
    "   - Once finished, you can launch Anaconda Navigator or use the Anaconda Prompt to start working with Python and R.\n",
    "\n",
    "5. **Verify Installation**:\n",
    "   - Open Anaconda Prompt (Windows) or Terminal (macOS/Linux) and type the following command to check if Anaconda is installed correctly:\n",
    "     ```bash\n",
    "     conda --version\n",
    "     ```\n",
    "   - If Anaconda is installed, this command will return the version number of Conda.\n",
    "\n"
   ]
  },
  {
   "cell_type": "markdown",
   "metadata": {},
   "source": [
    "## [Click here to Watch Installation video on YouTube](https://www.youtube.com/watch?v=oHHbsMfyNR4)"
   ]
  },
  {
   "cell_type": "markdown",
   "metadata": {},
   "source": [
    "#### Click on windows at bottom left and type anaconda/miniconda and you can either open the terminal or navigator \n",
    "-   <span style=\"color:#28B463\">Anaconda Prompt :</span> command line interface \n",
    "-   <span style=\"color:#28B463\">Anaconda Navigator :</span> GUI based interface \n",
    "\n",
    "\n",
    "<img src=\"../../images/anaconda_start_terminal.png\" alt=\"Data Science Lifecycle\" width=\"600\"/>"
   ]
  },
  {
   "cell_type": "markdown",
   "metadata": {},
   "source": [
    "### Once in prompt do following : \n",
    "\n",
    "```bash \n",
    "conda info  # To check conda installation status and version info \n",
    "conda env list # to check the list of envs in conda \n",
    "conda create --name env_name ## will create a conda env \n",
    "conda create --name env_name python==version ## will install conda with particular python version \n",
    "```\n",
    "\n",
    "**<span style=\"color:#D35400\">Note:</span>** If you want to try any conda command but having problem you can add \n",
    "```bash \n",
    "COMMANDLINE --help \n",
    "```\n",
    "after any half written conda command to get help"
   ]
  },
  {
   "cell_type": "markdown",
   "metadata": {},
   "source": [
    "<img src=\"../../images/conda_comms_1.png\" alt=\"Data Science Lifecycle\" width=\"1000\"/>"
   ]
  },
  {
   "cell_type": "markdown",
   "metadata": {},
   "source": [
    "```bash \n",
    "conda activate env_name # to activate \n",
    "conda list # once inside env this command will show all installed packages in that conda env\n",
    "conda install package_name # will install package in that conda env \n",
    "conda install --name env_name package_name # will install package in that particular conda env \n",
    "```\n",
    "**<span style=\"color:#D35400\">Note:</span>** By default when you open anaconda prompt shell you're in ' base ' env already after that you can create new envs and navigate through them\n",
    "\n",
    "<img src=\"../../images/conda_comms_2.png\" alt=\"Data Science Lifecycle\" width=\"600\"/>"
   ]
  },
  {
   "cell_type": "markdown",
   "metadata": {},
   "source": [
    "```bash \n",
    "conda uninstall package_name # this will uninstall the package from current env \n",
    "conda install --name env_name package_name # will install package in that particular conda env spacified after '--name'\n",
    "```\n",
    "\n",
    "<img src=\"../../images/conda_comms_3.png\" alt=\"Data Science Lifecycle\" width=\"600\"/>\n"
   ]
  },
  {
   "cell_type": "markdown",
   "metadata": {},
   "source": [
    "```bash \n",
    "conda search package_name # will give diff version of packages available from conda to install \n",
    "```\n",
    "<img src=\"../../images/conda_comms_4.png\" alt=\"Data Science Lifecycle\" width=\"600\"/>"
   ]
  },
  {
   "cell_type": "markdown",
   "metadata": {},
   "source": [
    "```bash \n",
    "conda install package_name=version ## will install pacakage with specific version if requirements are met \n",
    "```\n",
    "\n",
    "**<span style=\"color:#D35400\">Note:</span>** Make sure all dependencies are met when you are installing specific version of any package in conda env "
   ]
  },
  {
   "cell_type": "markdown",
   "metadata": {},
   "source": [
    "<img src=\"../../images/conda_comms_5.png\" alt=\"Data Science Lifecycle\" width=\"600\"/>"
   ]
  },
  {
   "cell_type": "markdown",
   "metadata": {},
   "source": [
    "```bash \n",
    "conda update package_name ## will update installed package to latest version \n",
    "conda install --channel channel_name package_name # will install package from that specific channel repo\n",
    "```"
   ]
  },
  {
   "cell_type": "markdown",
   "metadata": {},
   "source": [
    "<img src=\"../../images/conda_comms_6.png\" alt=\"Data Science Lifecycle\" width=\"600\"/>"
   ]
  },
  {
   "cell_type": "markdown",
   "metadata": {},
   "source": [
    "```bash\n",
    "conda deactivate # will deactivate that current env ( no need env name it just exit from current env to base env )\n",
    "conda remove --name env_name package_name # remove specific package from that env \n",
    "conda remove --name env_name --all # '--all' command will delete the whole conda env \n",
    "```\n",
    "<img src=\"../../images/conda_comms_7.png\" alt=\"Data Science Lifecycle\" width=\"600\"/>"
   ]
  },
  {
   "cell_type": "markdown",
   "metadata": {},
   "source": [
    "- For any further assistance visit : [Click here](https://docs.anaconda.com/)\n",
    "- Anaconda Command Cheat Sheet : [Click here](https://docs.conda.io/projects/conda/en/4.6.0/_downloads/52a95608c49671267e40c689e0bc00ca/conda-cheatsheet.pdf)"
   ]
  },
  {
   "cell_type": "markdown",
   "metadata": {},
   "source": [
    "# Jupyter-Notebook"
   ]
  },
  {
   "cell_type": "markdown",
   "metadata": {},
   "source": [
    "<span style=\"color:#2E86C1\">What is Jupyter Notebook?</span>\n",
    "Jupyter Notebook is an interactive web-based tool that allows you to write and run code in a flexible, user-friendly environment. It’s commonly used for data analysis, machine learning, and scientific computing. You can mix code, visualizations, and text in one document, making it easy to share and present your work.\n",
    "\n",
    "**<span style=\"color:#D35400\">Key Features:</span>**\n",
    "- <span style=\"color:#28B463\">Code Execution:</span> Run code snippets in languages like Python, R, and Julia.\n",
    "- <span style=\"color:#28B463\">Markdown Support:</span> Write formatted text, including headings, lists, and links.\n",
    "- <span style=\"color:#28B463\">Visualizations:</span> Create graphs and charts to visualize data directly in the notebook.\n",
    "- <span style=\"color:#28B463\">Interactive Widgets:</span> Add sliders and buttons to make your notebooks more interactive.\n",
    "\n",
    "---"
   ]
  },
  {
   "cell_type": "markdown",
   "metadata": {},
   "source": [
    "**<span style=\"color:#D35400\">How to Run Jupyter Notebook:</span>**\n",
    "\n",
    "1. Open the Anaconda Prompt.\n",
    "2. Create a new environment or activate an existing one:\n",
    "   - To create a new environment, use the command:\n",
    "     ```bash\n",
    "     conda create --name myenv python=version\n",
    "     ```\n",
    "     (Replace `myenv` with your preferred environment name and adjust the Python `version` as needed.)\n",
    "   - To activate an existing environment, use:\n",
    "     ```bash\n",
    "     conda activate myenv\n",
    "     ```\n",
    "   - Install jupyter Notebook or if installed run it:\n",
    "     ```bash\n",
    "     conda install jupyter \n",
    "     ```\n",
    "   - Run jupyter Notebook:\n",
    "     ```bash\n",
    "     jupyter-notebook \n",
    "     ```"
   ]
  },
  {
   "cell_type": "markdown",
   "metadata": {},
   "source": [
    "<img src=\"../../images/jupyter_comms_1.png\" alt=\"jupyter_comms_1\" width=\"800\"/>\n",
    "\n",
    "#### Once you're inside jupyter-notebook you can create a new notebook by clicking on `New` and `Selecting Kernal` :\n",
    "\n",
    "<img src=\"../../images/jupyter_comms_2.png\" alt=\"jupyter_comms_2\" width=\"800\"/>"
   ]
  },
  {
   "cell_type": "markdown",
   "metadata": {},
   "source": [
    "---\n",
    "<center><h2>Good We're all set and move with actual Data Science portion<h2></center> \n",
    "<center>========----========</center>"
   ]
  }
 ],
 "metadata": {
  "kernelspec": {
   "display_name": "NeuralNet",
   "language": "python",
   "name": "python3"
  },
  "language_info": {
   "codemirror_mode": {
    "name": "ipython",
    "version": 3
   },
   "file_extension": ".py",
   "mimetype": "text/x-python",
   "name": "python",
   "nbconvert_exporter": "python",
   "pygments_lexer": "ipython3",
   "version": "3.11.10"
  }
 },
 "nbformat": 4,
 "nbformat_minor": 2
}
