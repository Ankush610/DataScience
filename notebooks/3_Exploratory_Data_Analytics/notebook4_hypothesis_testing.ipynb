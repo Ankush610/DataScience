{
 "cells": [
  {
   "cell_type": "markdown",
   "metadata": {},
   "source": [
    "# **<span style=\"color:#2E86C1\">Inferential Statistics</span>**"
   ]
  },
  {
   "cell_type": "markdown",
   "metadata": {},
   "source": [
    "`What's inferential statistics?` In contrast to descriptive statistics, inferential statistics want to make a statement about the population. However, since it is almost impossible in most cases to survey the entire population, a sample is used, i.e. a small data set originating from the population. With this sample a statement about the population can be made.\n",
    "\n",
    "`Definition :` \"Inferential statistics is a branch of statistics that uses various analytical tools to draw conclusions about the population from sample data. For a given hypothesis about the population, inferential statistics uses a sample and gives an indication of the validity of the hypothesis based on the sample collected.\" "
   ]
  },
  {
   "cell_type": "markdown",
   "metadata": {},
   "source": [
    "---"
   ]
  },
  {
   "cell_type": "markdown",
   "metadata": {},
   "source": [
    "## **<span style=\"color:#2E86C1\">Hypothesis</span>**"
   ]
  },
  {
   "cell_type": "markdown",
   "metadata": {},
   "source": [
    "A hypothesis is an assumption that is neither proven nor disproven. In the research process, a hypothesis is made at the very beginning and the goal is to either reject or not reject the hypothesis. In order to reject or not reject a hypothesis, data, e.g. from an experiment or a survey, are needed, which are then evaluated using a hypothesis test.\n",
    "\n",
    "## <span style=\"color:#D35400\"><b>Types of Hypotheses</b></span>\n",
    "\n",
    "-   <span style=\"color:#28B463\"><b>Differential Hypothesis</b></span>\n",
    "    \n",
    "    Difference hypotheses are used when different groups are to be distinguished. \n",
    "    \n",
    "    Examples of difference hypotheses are:\n",
    "    \n",
    "    -   The \"group\" of men earn more than the \"group\" of women.\n",
    "    -   Smokers have a higher risk of heart attack than non-smokers.\n",
    "    -   There is a difference between Germany, Austria, and France in terms of hours worked per week.\n",
    "\n",
    "-   <span style=\"color:#28B463\"><b>Correlation Hypothesis</b></span>\n",
    "\n",
    "    Correlation hypotheses are used when the relationship or correlation between variables is to be tested. \n",
    "\n",
    "    Examples of correlation hypotheses are:\n",
    "    \n",
    "    -   The relationship between age and height.\n",
    "    -   The more horsepower a car has, the higher its fuel consumption.\n",
    "    -   The better the math grade, the higher the future salary.\n",
    "\n",
    "-   <span style=\"color:#28B463\"><b>Directional and Non-directional Hypotheses : </b></span>\n",
    "\n",
    "    Hypotheses can also be divided into **directional** and **non-directional** (also known as one-sided and two-sided hypotheses).\n",
    "\n",
    "    -   <span style=\"color:purple\"><b>Non-directional Hypotheses</b></span>:\n",
    "\n",
    "        Non-directional hypotheses test whether there is a relationship or a difference, and it does not matter in which direction the relationship or difference goes.\n",
    "        \n",
    "        Examples:\n",
    "        -   There is a difference between the salary of men and women (but it is not said who earns more!).\n",
    "        -   There is a difference in the risk of heart attack between smokers and non-smokers (but it is not said who has the higher risk!).\n",
    "\n",
    "        In regard to a correlation hypothesis, this means there is a relationship between two variables, but it is not said whether this relationship is positive or negative.\n",
    "        \n",
    "        -   There is a correlation between height and weight.\n",
    "        -   There is a correlation between horsepower and fuel consumption in cars.\n",
    "\n",
    "    -   <span style=\"color:purple\"><b>Directional Hypotheses : </b></span>\n",
    "\n",
    "        Directional hypotheses additionally indicate the direction of the relationship or difference. \n",
    "        \n",
    "        Examples:\n",
    "        -   Men earn more than women.\n",
    "        -   Smokers have a higher risk of heart attack than non-smokers.\n",
    "\n",
    "        In the case of a correlation hypothesis, it specifies whether the correlation is positive or negative.\n",
    "        \n",
    "        -   The taller a person is, the heavier they are.\n",
    "        -   The more horsepower a car has, the higher its fuel economy.\n",
    "\n",
    "`Note: Choosing the P-value for directional and non-directional hypotheses is different.`\n",
    "\n",
    " <center><img src=\"../../images/directional_and_nondiarectional_hypothesis.png\" alt=\"error\" width=\"1000\"/></center>"
   ]
  },
  {
   "cell_type": "markdown",
   "metadata": {},
   "source": [
    "## **<span style=\"color:#2E86C1\">Hypothesis Testing</span>**"
   ]
  },
  {
   "cell_type": "markdown",
   "metadata": {},
   "source": [
    "\n",
    "<span style=\"color:#D35400\">What is Hypothesis Testing?</span>\n",
    "Hypothesis testing is a statistical method used to make decisions or inferences about a population based on sample data. It helps determine whether the observed data deviates from what is expected under a specific assumption (the null hypothesis).\n",
    "\n",
    "In simpler terms, hypothesis testing allows us to test assumptions or claims about a population by analyzing sample data. It helps to objectively decide whether to accept or reject a hypothesis.\n",
    "\n",
    "<span style=\"color:#D35400\">Why Do We Need Hypothesis Testing?</span>\n",
    "Hypothesis testing is crucial in making data-driven decisions. It enables us to:\n",
    "\n",
    "- <span style=\"color:#28B463\">Test Assumptions</span>: Check if a particular assumption about a population holds true.\n",
    "- <span style=\"color:#28B463\">Validate Claims</span>: For example, whether a new drug is more effective than an existing one.\n",
    "- <span style=\"color:#28B463\">Reduce Uncertainty</span>: Helps in reducing subjectivity by using data to guide conclusions.\n",
    "- <span style=\"color:#28B463\">Support Evidence-based Decisions</span>: Hypothesis testing provides a structured method to accept or reject a claim based on data, which is vital in fields like healthcare, business, and social sciences.\n",
    "\n",
    "<span style=\"color:#D35400\">Key Terms in Hypothesis Testing</span>\n",
    "\n",
    "- **<span style=\"color:#28B463\">1. Null Hypothesis (H₀)</span>**  \n",
    "  The null hypothesis represents a statement of no effect or no difference. It is the default assumption we aim to test against.\n",
    "  - `Null Hypothesis Assumption` : There is no difference in test scores between two groups.\n",
    "  - `Example`: gender has no effect on salary.\n",
    "  - `When to choose the null hypothesis?` It is usually the hypothesis that suggests no change or status quo.\n",
    "\n",
    "- **<span style=\"color:#28B463\">2. Alternate Hypothesis (H₁ or Hₐ)</span>**  \n",
    "  The alternate hypothesis is the statement that contradicts the null hypothesis. It represents the claim we are testing for.\n",
    "  \n",
    "  - `Alternate Hypothesis Assumption` : There is a significant difference in test scores between two groups.\n",
    "  - `Example`: gender has an effect on salary. This hypothesis is called an alternative hypothesis.\n",
    "  - `When to choose the alternate hypothesis?` The alternate hypothesis represents the effect or difference you're interested in proving."
   ]
  },
  {
   "cell_type": "markdown",
   "metadata": {},
   "source": [
    "## <span style=\"color:#D35400\"><b>What is P-Value</b></span>"
   ]
  },
  {
   "cell_type": "markdown",
   "metadata": {},
   "source": [
    "<span style=\"color:#2E86C1\"><b>P-Value and Decision Making</b></span>\n",
    "\n",
    "The p-value helps us decide whether to reject or keep the **null hypothesis** (the assumption that there is no effect or difference). If the p-value is smaller than a pre-set **significance level** (usually 5%), we reject the null hypothesis. Otherwise, we don't reject it.\n",
    "\n",
    "`Example:` If we assume that men's and women's salaries in Germany are the same, but our sample shows a difference of 300 euros per month, the **p-value** tells us how likely it is that this 300 euro difference happened just by chance, assuming there’s really no difference in the overall population.\n",
    "\n",
    "<span style=\"color:#D35400\"><b>Understanding Small and Large P-values</b></span>\n",
    "\n",
    "---\n",
    "\n",
    "- **Small p-value (e.g., 3%)**:\n",
    "    - If the p-value is very small, say **3%**, it means there’s only a **3% chance** that this **300 euro difference** (or more) happened by chance.\n",
    "    - You then need to decide if you're okay with accepting a **3% chance of error**, or if that’s too risky to ignore.\n",
    "\n",
    "<span style=\"color:#28B463\"><b>Key Interpretations:</b></span>\n",
    "\n",
    "---\n",
    "\n",
    "- **When p-value is small (e.g., 3%)**:\n",
    "    - There's only a **3% chance** that the observed result (like a **300 euro salary difference**) happened purely by chance.\n",
    "    - So, it’s very **unlikely to be random**, and we believe the difference is **real**. That's why we **reject the null hypothesis** (which says there's no difference).\n",
    "\n",
    "- **When p-value is large (e.g., 50%)**:\n",
    "    - There's a **50% chance** that the observed difference could have occurred by chance.\n",
    "    - In this case, it’s not surprising if it’s just random, so we **don't reject the null hypothesis** (since there's no strong evidence against it).\n",
    "\n",
    "---\n",
    "\n",
    "<span style=\"color:#D35400\"><b>In Short:</b></span>\n",
    "\n",
    "- **Small p-value** = Unlikely to be by chance → likely a **real effect**.\n",
    "- **Large p-value** = Could easily be by chance → not enough evidence for a real effect.\n"
   ]
  },
  {
   "cell_type": "markdown",
   "metadata": {},
   "source": [
    "<center><img src=\"../../images/p_value_example.png\" alt=\"error\" width=\"500\"/></center>"
   ]
  },
  {
   "cell_type": "markdown",
   "metadata": {},
   "source": [
    "## <span style=\"color:#D35400\"><b>Importance of Significance Level</b></span>"
   ]
  },
  {
   "cell_type": "markdown",
   "metadata": {},
   "source": [
    "<span style=\"color:#2E86C1\"><b>Understanding Significance Level and P-value</b></span>\n",
    "\n",
    "-   <span style=\"color:#D35400\"><b>The Role of Significance Level (α)</b></span>\n",
    "    - Before conducting a hypothesis test, the **significance level (α)** is set to decide how much uncertainty we're willing to accept.\n",
    "    - A commonly used significance level is **5% (α = 0.05)**.\n",
    "    - The significance level tells us how much evidence we need to reject the **null hypothesis**. In other words, how confident we need to be that the result is **not due to chance**.\n",
    "\n",
    "    <center><img src=\"../../images/p_value.png\" alt=\"error\" width=\"600\"/></center>\n",
    "\n",
    "---\n",
    "\n",
    "-   <span style=\"color:#28B463\"><b>Interpretation of P-values</b></span>\n",
    "\n",
    "    - **α < 0.01**: **Very significant result.**\n",
    "        - There's less than **1% chance** the result is due to randomness, so we reject the null hypothesis with high confidence.\n",
    "\n",
    "    - **α < 0.05**: **Significant result.**\n",
    "        - There's less than **5% chance** the result is due to randomness, so we reject the null hypothesis. \n",
    "\n",
    "    - **α > 0.05**: **Not a significant result.**\n",
    "        - The result could easily be due to chance, so we **don’t reject the null hypothesis**.\n",
    "\n",
    "---\n",
    "\n",
    "<span style=\"color:#2E86C1\"><b>Example of Reluctance in Rejecting the Null Hypothesis</b></span>\n",
    "\n",
    "If we calculate a p-value of **0.05**, it means there’s a **5% chance** that the result could have occurred by random chance. Even though it’s considered **significant**, it's **not significant enough** for us to confidently reject the null hypothesis.\n",
    "\n",
    "We are generally **reluctant to reject the null hypothesis** because we assume that the **null hypothesis is true** before any testing is done. So, unless we are **very sure** (based on a small p-value), we **don't reject the null hypothesis**. \n",
    "\n",
    "In short, we only reject the null hypothesis if the chance of randomness is very small (typically less than **5%**).\n"
   ]
  },
  {
   "cell_type": "markdown",
   "metadata": {},
   "source": [
    "---"
   ]
  },
  {
   "cell_type": "markdown",
   "metadata": {},
   "source": [
    "#### 🎯 `NOTE` : Generally **P value** is calculated from **Z-score , T-statistics** which are obtained from their respective tests. But python has predefined function which directly gives use p-value result as final output so all we need to do it compare it with significance level of our liking generally we use 0.05 (i.e. 5% significance level)"
   ]
  },
  {
   "cell_type": "markdown",
   "metadata": {},
   "source": [
    "# **<span style=\"color:#28B463\">Z-Test</span>**"
   ]
  },
  {
   "cell_type": "markdown",
   "metadata": {
    "vscode": {
     "languageId": "plaintext"
    }
   },
   "source": [
    "\n",
    "- **<span style=\"color:#D35400\">When to Use a Z-Test:</span>**\n",
    "    - <span style=\"color:#28B463\">Used For :</span> To compare mean of two groups.\n",
    "    - <span style=\"color:#28B463\">Large sample size:</span> The Z-test is appropriate when the sample size is large (usually \\(n > 30\\)).\n",
    "    - <span style=\"color:#28B463\">Known population variance:</span> The population variance (or standard deviation) is known.\n",
    "    - <span style=\"color:#28B463\">Normal distribution:</span> The data follows a normal distribution.\n",
    "\n",
    "- **<span style=\"color:#28B463\">Z-score</span>**\n",
    "\n",
    "    -   A Z-score measures how many standard deviations an element is from the mean. \n",
    "    -   In hypothesis testing, Z-scores are used in tests involving large samples to determine how far away a sample mean is from the population mean.\n",
    "\n",
    "        $$ Z = \\frac{X - \\mu}{\\sigma} $$  \n",
    "        Where:\n",
    "        - \\(X\\) is the sample mean\n",
    "        - \\($\\mu$\\) 'mu' is the population mean\n",
    "        - \\($\\sigma$\\) 'sigma' is the standard deviation of the population\n",
    "\n",
    "- **<span style=\"color:#D35400\">Real-life Example:</span>**\n",
    "  Imagine a factory producing lightbulbs where the average lifespan of a bulb is claimed to be 1,000 hours, and the standard deviation is 100 hours. You take a sample of 50 bulbs and want to check if the average lifespan is significantly different from the claimed 1,000 hours.\n",
    "\n",
    "  `General Idea of Statistical Test`: we want population mean and standard deviation AND sample mean and standard deviation to be almost same because that will define that sample properly represents population so we will compare it with z test.\n"
   ]
  },
  {
   "cell_type": "code",
   "execution_count": 14,
   "metadata": {},
   "outputs": [],
   "source": [
    "import numpy as np\n",
    "from scipy import stats\n",
    "import matplotlib.pyplot as plt \n",
    "\n",
    "# Given data\n",
    "population_mean = 1000\n",
    "population_std = 100  # Known population standard deviation\n",
    "sample_size = 50  # Sample size \n",
    "alpha = 0.05  # Significance level \n",
    "\n",
    "# Generate random sample data based on the population mean and std\n",
    "# Adding noise (bias) to the sample data to introduce variability \n",
    "noise_factor = 0  # The magnitude of the noise to add "
   ]
  },
  {
   "cell_type": "markdown",
   "metadata": {},
   "source": [
    "### `NOTE`:\n",
    "-   here, **noise factor** is added to give data more real world scenario effect.\n",
    "-   making noise 0 will make so mean and std of sample and population are same \n",
    "-   increasing noise factor will make so that sample and population mean are not same \n",
    "-   try making noise very small like 0 and large like 50 and see the final result change "
   ]
  },
  {
   "cell_type": "code",
   "execution_count": 15,
   "metadata": {},
   "outputs": [
    {
     "name": "stdout",
     "output_type": "stream",
     "text": [
      "Sample Mean: 996.7047305791999\n",
      "Z-score: -0.2330107353284405\n",
      "P-value: 0.8157530696062265\n",
      "Fail to reject the null hypothesis: No significant difference.\n"
     ]
    }
   ],
   "source": [
    "sample = np.random.normal(loc=population_mean + noise_factor, scale=population_std, size=sample_size)\n",
    "\n",
    "# Z-test\n",
    "sample_mean = np.mean(sample)\n",
    "z_score = (sample_mean - population_mean) / (population_std / np.sqrt(sample_size))\n",
    "\n",
    "# Get p-value from z-score\n",
    "p_value = 2 * (1 - stats.norm.cdf(abs(z_score)))\n",
    "\n",
    "# Print results\n",
    "print(\"Sample Mean:\", sample_mean)\n",
    "print(\"Z-score:\", z_score)\n",
    "print(\"P-value:\", p_value)\n",
    "\n",
    "# Decision making\n",
    "if p_value <= alpha:\n",
    "    print(\"Reject the null hypothesis: There is a significant difference.\")\n",
    "else:\n",
    "    print(\"Fail to reject the null hypothesis: No significant difference.\")"
   ]
  },
  {
   "cell_type": "markdown",
   "metadata": {},
   "source": [
    "# **<span style=\"color:#28B463\">T-Test</span>**"
   ]
  },
  {
   "cell_type": "markdown",
   "metadata": {},
   "source": [
    "\n",
    "- **<span style=\"color:#D35400\">When to Use a T-Test:</span>**\n",
    "    - <span style=\"color:#28B463\">Used For:</span> To compare the means of one or two groups.\n",
    "    - <span style=\"color:#28B463\">Small sample size:</span> The T-test is appropriate when the sample size is small (usually \\(n $\\leq$ 30\\)).\n",
    "    - <span style=\"color:#28B463\">Unknown population variance:</span> The population variance (or standard deviation) is unknown.\n",
    "\n",
    "- **<span style=\"color:#28B463\">T-score</span>**\n",
    "    - A T-score measures how many standard deviations the sample mean is from the population mean, accounting for sample size.\n",
    "    - In hypothesis testing, T-scores are used when dealing with smaller sample sizes to evaluate how far away a sample mean is from the population mean.\n",
    "\n",
    "        $$ T = \\frac{X - \\mu}{s / \\sqrt{n}} $$  \n",
    "        Where:\n",
    "        - \\(X\\) is the sample mean\n",
    "        - \\($\\mu$\\) 'mu' is the population mean\n",
    "        - \\(s\\) is the sample standard deviation\n",
    "        - \\(n\\) is the sample size"
   ]
  },
  {
   "cell_type": "markdown",
   "metadata": {},
   "source": [
    "### **<span style=\"color:#2E86C1\">Types of T-tests</span>**\n",
    "\n",
    "- **<span style=\"color:#D35400\">One-sample T-test</span>**\n",
    "    - <span style=\"color:#28B463\">Description:</span> A one-sample T-test is used to compare the mean of a single sample to a known population mean.\n",
    "    - **<span style=\"color:#28B463\">Example:</span>**  \n",
    "      A university claims that the average GPA of all its students is 3.0. You take a sample of 30 students and want to verify if the average GPA of these students is significantly different from 3.0."
   ]
  },
  {
   "cell_type": "code",
   "execution_count": 33,
   "metadata": {},
   "outputs": [
    {
     "name": "stdout",
     "output_type": "stream",
     "text": [
      "T-statistic: 1.7556849093970603\n",
      "P-value: 0.08970111773731367\n",
      "Fail to reject the null hypothesis: No significant difference.\n"
     ]
    }
   ],
   "source": [
    "import numpy as np\n",
    "from scipy import stats\n",
    "\n",
    "# Sample data: GPA of 30 students\n",
    "sample = [3.1, 2.9, 3.0, 3.2, 3.1, 3.3, 2.8, 3.0, 2.9, 3.2, 3.1, 2.9, 3.0, 3.1, 3.2, 3.3, 2.8, 3.0, 3.1, 2.9, 3.0, 3.1, 3.2, 3.3, 2.8, 3.0, 3.1, 2.9, 3.0, 3.1]\n",
    "\n",
    "# Population mean (claimed GPA)\n",
    "population_mean = 3.0\n",
    "\n",
    "# Perform one-sample t-test\n",
    "t_statistic, p_value = stats.ttest_1samp(sample, population_mean)\n",
    "\n",
    "print(\"T-statistic:\", t_statistic)\n",
    "print(\"P-value:\", p_value)\n",
    "\n",
    "# Significance level\n",
    "alpha = 0.05\n",
    "\n",
    "# Conclusion\n",
    "if p_value <= alpha:\n",
    "    print(\"Reject the null hypothesis: The sample mean is significantly different from the population mean.\")\n",
    "else:\n",
    "    print(\"Fail to reject the null hypothesis: No significant difference.\")\n"
   ]
  },
  {
   "cell_type": "markdown",
   "metadata": {},
   "source": [
    "- **<span style=\"color:#D35400\">Paired T-test</span>**\n",
    "    - <span style=\"color:#28B463\">Description:</span> Compares the means of two related groups (e.g., before and after treatment).\n",
    "    - **<span style=\"color:#28B463\">Example:</span>**  \n",
    "      You want to test if a new teaching method has improved the scores of students by comparing their scores before and after the method was introduced."
   ]
  },
  {
   "cell_type": "code",
   "execution_count": 36,
   "metadata": {},
   "outputs": [
    {
     "name": "stdout",
     "output_type": "stream",
     "text": [
      "T-statistic: -12.818181818181818\n",
      "P-value: 4.3817855382226614e-07\n",
      "Reject the null hypothesis: The new method significantly improved the scores.\n"
     ]
    }
   ],
   "source": [
    "import numpy as np\n",
    "from scipy import stats\n",
    "\n",
    "# Test scores before and after applying a new teaching method\n",
    "before_scores = [78, 82, 85, 80, 88, 84, 77, 83, 79, 81]\n",
    "after_scores = [85, 86, 88, 85, 92, 89, 81, 87, 85, 86]\n",
    "\n",
    "# Perform paired t-test\n",
    "t_statistic, p_value = stats.ttest_rel(before_scores, after_scores)\n",
    "\n",
    "print(\"T-statistic:\", t_statistic)\n",
    "print(\"P-value:\", p_value)\n",
    "\n",
    "# Significance level\n",
    "alpha = 0.05\n",
    "\n",
    "# Conclusion\n",
    "if p_value <= alpha:\n",
    "    print(\"Reject the null hypothesis: The new method significantly improved the scores.\")\n",
    "else:\n",
    "    print(\"Fail to reject the null hypothesis: The new method did not significantly improve the scores.\")\n"
   ]
  },
  {
   "cell_type": "markdown",
   "metadata": {},
   "source": [
    "- **<span style=\"color:#D35400\">Two-sample T-test</span>**\n",
    "    - <span style=\"color:#28B463\">Description:</span> Compares the means of two independent samples.\n",
    "    - **<span style=\"color:#28B463\">Example:</span>**  \n",
    "      You want to compare the average test scores of students from two different schools to see if there's a significant difference in their performance.\n",
    "\n"
   ]
  },
  {
   "cell_type": "code",
   "execution_count": 34,
   "metadata": {},
   "outputs": [
    {
     "name": "stdout",
     "output_type": "stream",
     "text": [
      "T-statistic: 2.4319606085620005\n",
      "P-value: 0.02568187849919393\n",
      "Reject the null hypothesis: There is a significant difference between the two groups.\n"
     ]
    }
   ],
   "source": [
    "import numpy as np\n",
    "from scipy import stats\n",
    "\n",
    "# Test scores from two independent schools\n",
    "school1_scores = [85, 88, 92, 75, 89, 91, 86, 84, 90, 93]\n",
    "school2_scores = [82, 79, 88, 77, 85, 80, 83, 81, 86, 84]\n",
    "\n",
    "# Perform two-sample t-test\n",
    "t_statistic, p_value = stats.ttest_ind(school1_scores, school2_scores)\n",
    "\n",
    "print(\"T-statistic:\", t_statistic)\n",
    "print(\"P-value:\", p_value)\n",
    "\n",
    "# Significance level\n",
    "alpha = 0.05\n",
    "\n",
    "# Conclusion\n",
    "if p_value <= alpha:\n",
    "    print(\"Reject the null hypothesis: There is a significant difference between the two groups.\")\n",
    "else:\n",
    "    print(\"Fail to reject the null hypothesis: No significant difference between the two groups.\")\n"
   ]
  },
  {
   "cell_type": "markdown",
   "metadata": {},
   "source": [
    "### **<span style=\"color:#2E86C1\">Two-sample T-test Types :</span>**\n",
    "\n",
    "- **<span style=\"color:#D35400\">One-tailed Test:</span>**\n",
    "    - <span style=\"color:#28B463\">Description:</span> A one-tailed test is used when you want to test if one sample's mean is either greater than or less than the other sample's mean, but not both.\n",
    "    - **<span style=\"color:#28B463\">Example:</span>**  \n",
    "      You want to test if students from School A have higher test scores than those from School B, assuming no possibility of School B having higher scores."
   ]
  },
  {
   "cell_type": "code",
   "execution_count": 37,
   "metadata": {},
   "outputs": [
    {
     "name": "stdout",
     "output_type": "stream",
     "text": [
      "T-statistic: 2.4319606085620005\n",
      "One-tailed P-value: 0.012840939249596965\n",
      "Reject the null hypothesis: School A has significantly higher scores than School B.\n"
     ]
    }
   ],
   "source": [
    "import numpy as np\n",
    "from scipy import stats\n",
    "\n",
    "# Test scores from two independent schools (School A and School B)\n",
    "school_A_scores = [85, 88, 92, 75, 89, 91, 86, 84, 90, 93]\n",
    "school_B_scores = [82, 79, 88, 77, 85, 80, 83, 81, 86, 84]\n",
    "\n",
    "# Perform one-tailed t-test (School A > School B)\n",
    "t_statistic, p_value = stats.ttest_ind(school_A_scores, school_B_scores)\n",
    "\n",
    "# The one-tailed p-value is then obtained by dividing the two-tailed p-value by 2.\n",
    "one_tailed_p_value = p_value / 2\n",
    "\n",
    "print(\"T-statistic:\", t_statistic)\n",
    "print(\"One-tailed P-value:\", one_tailed_p_value)\n",
    "\n",
    "# Significance level\n",
    "alpha = 0.05\n",
    "\n",
    "# Conclusion\n",
    "if one_tailed_p_value <= alpha and t_statistic > 0:\n",
    "    print(\"Reject the null hypothesis: School A has significantly higher scores than School B.\")\n",
    "else:\n",
    "    print(\"Fail to reject the null hypothesis: No significant difference in scores.\")\n"
   ]
  },
  {
   "cell_type": "markdown",
   "metadata": {},
   "source": [
    "- **<span style=\"color:#D35400\">Two-tailed Test:</span>**\n",
    "    - <span style=\"color:#28B463\">Description:</span> A two-tailed test is used when you want to test if the means of two samples are different from each other, regardless of which one is greater.\n",
    "    - **<span style=\"color:#28B463\">Example:</span>**  \n",
    "      You want to compare test scores between two schools but don’t assume which school has higher or lower scores."
   ]
  },
  {
   "cell_type": "code",
   "execution_count": 38,
   "metadata": {},
   "outputs": [
    {
     "name": "stdout",
     "output_type": "stream",
     "text": [
      "T-statistic: 2.4319606085620005\n",
      "Two-tailed P-value: 0.02568187849919393\n",
      "Reject the null hypothesis: There is a significant difference between the two groups.\n"
     ]
    }
   ],
   "source": [
    "import numpy as np\n",
    "from scipy import stats\n",
    "\n",
    "# Test scores from two independent schools (School A and School B)\n",
    "school_A_scores = [85, 88, 92, 75, 89, 91, 86, 84, 90, 93]\n",
    "school_B_scores = [82, 79, 88, 77, 85, 80, 83, 81, 86, 84]\n",
    "\n",
    "# Perform two-tailed t-test\n",
    "t_statistic, p_value = stats.ttest_ind(school_A_scores, school_B_scores)\n",
    "\n",
    "print(\"T-statistic:\", t_statistic)\n",
    "print(\"Two-tailed P-value:\", p_value)\n",
    "\n",
    "# Significance level\n",
    "alpha = 0.05\n",
    "\n",
    "# Conclusion\n",
    "if p_value <= alpha:\n",
    "    print(\"Reject the null hypothesis: There is a significant difference between the two groups.\")\n",
    "else:\n",
    "    print(\"Fail to reject the null hypothesis: No significant difference between the two groups.\")\n"
   ]
  },
  {
   "cell_type": "markdown",
   "metadata": {},
   "source": [
    "# **<span style=\"color:#28B463\">Chi-Square Test</span>**"
   ]
  },
  {
   "cell_type": "markdown",
   "metadata": {},
   "source": [
    "### **<span style=\"color:#D35400\">What is the Chi-Square Test?</span>**\n",
    "- The **Chi-Square test** is a statistical method used to determine if there is a significant association between two categorical variables. \n",
    "- It compares the observed frequency of events with the expected frequency under the assumption of no association.\n",
    "\n",
    "### **<span style=\"color:#D35400\">When to Use the Chi-Square Test:</span>**\n",
    "- **<span style=\"color:#28B463\">Use the Chi-Square Test when:</span>**\n",
    "  - You have **categorical data**.\n",
    "  - You want to test the **association** or **independence** between two variables.\n",
    "  - You want to compare the **observed** distribution of data with an **expected** distribution.\n",
    "\n",
    "### **<span style=\"color:#D35400\">Steps to Perform a Chi-Square Test:</span>**\n",
    "\n",
    "- **<span style=\"color:#28B463\">Step 1: Formulate the Hypotheses</span>**\n",
    "  - **Null Hypothesis (H₀):** Assumes no association between the variables or the sample fits the expected distribution.\n",
    "  - **Alternate Hypothesis (H₁):** Assumes an association between the variables or that the sample does not fit the expected distribution.\n",
    "\n",
    "- **<span style=\"color:#28B463\">Step 2: Create a Contingency Table</span>**\n",
    "  - Organize your observed data in a contingency table with the categories of one variable as rows and the categories of the second variable as columns.\n",
    "\n",
    "- **<span style=\"color:#28B463\">Step 3: Calculate the Expected Frequencies</span>**\n",
    "  - The expected frequency for each cell in the contingency table is calculated based on the assumption of independence.\n",
    "  $$ Expected\\ Frequency = \\frac{(Row\\ Total \\times Column\\ Total)}{Grand\\ Total} $$\n",
    "\n",
    "- **<span style=\"color:#28B463\">Step 4: Compute the Chi-Square Statistic</span>**\n",
    "  $$ \\chi^2 = \\sum \\frac{(Observed - Expected)^2}{Expected} $$\n",
    "\n",
    "- **<span style=\"color:#28B463\">Step 5: Compare the Chi-Square Statistic to the Critical Value</span>**\n",
    "  - Compare the calculated Chi-Square value with the critical value from the Chi-Square distribution table using the degrees of freedom (df).\n",
    "  $$ df = (number\\ of\\ rows - 1) \\times (number\\ of\\ columns - 1) $$\n",
    "\n",
    "- **<span style=\"color:#28B463\">Step 6: Conclusion</span>**\n",
    "  - If the calculated Chi-Square value is greater than the critical value (or the p-value is less than the significance level), reject the null hypothesis.\n",
    "\n",
    "---"
   ]
  },
  {
   "cell_type": "markdown",
   "metadata": {},
   "source": [
    "# <span style=\"color:#2E86C1\"><b>Types of Chi-Square Test</b></span>"
   ]
  },
  {
   "cell_type": "markdown",
   "metadata": {},
   "source": [
    "## **<span style=\"color:#28B463\">Chi-Square Test of Independence</span>**"
   ]
  },
  {
   "cell_type": "markdown",
   "metadata": {},
   "source": [
    "\n",
    "\n",
    "- **Purpose:** This test is used to determine if there is a significant association between two categorical variables.\n",
    "- **Example Variables:** Let's test if there is an association between `sex` (male/female) and `smoker` status (yes/no) in the tips dataset.\n",
    "\n",
    "    - **Null Hypothesis (H₀):** There is no association between `sex` and `smoker` status (they are independent).\n",
    "    - **Alternate Hypothesis (H₁):** There is an association between `sex` and `smoker` status (they are not independent)."
   ]
  },
  {
   "cell_type": "markdown",
   "metadata": {},
   "source": [
    "\n",
    "\n",
    "### **<span style=\"color:#D35400\">Example Calculation:</span>**\n",
    "\n",
    "Let's assume you have a contingency table showing the number of male and female customers who either smoke or don't smoke.\n",
    "\n",
    "|                  | Smoker | Non-Smoker | Total |\n",
    "|------------------|--------|------------|-------|\n",
    "| **Male**         | 60     | 97         | 157   |\n",
    "| **Female**       | 30     | 54         | 84    |\n",
    "| **Total**        | 90     | 151        | 241   |\n",
    "\n",
    "- **<span style=\"color:#28B463\">Step 3: Expected Frequencies</span>**\n",
    "\n",
    "To calculate the expected frequency for each cell, use the formula:\n",
    "\n",
    "$$ E = \\frac{(Row\\ Total \\times Column\\ Total)}{Grand\\ Total} $$\n",
    "\n",
    "For example:\n",
    "\n",
    "$$ E_{1A} = \\frac{(60 + 97) \\times (60 + 30)}{60 + 97 + 30 + 54} = \\frac{157 \\times 90}{241} = 58.6 $$  \n",
    "$$ E_{1B} = \\frac{(60 + 97) \\times (30 + 54)}{60 + 97 + 30 + 54} = \\frac{157 \\times 84}{241} = 54.7 $$  \n",
    "$$ E_{2A} = \\frac{(60 + 54) \\times (60 + 30)}{60 + 97 + 30 + 54} = \\frac{114 \\times 90}{241} = 42.6 $$  \n",
    "$$ E_{2B} = \\frac{(60 + 54) \\times (30 + 54)}{60 + 97 + 30 + 54} = \\frac{114 \\times 84}{241} = 39.4 $$\n",
    "\n",
    "So, the expected frequencies table will be:\n",
    "\n",
    "|                  | Smoker | Non-Smoker | Total |\n",
    "|------------------|--------|------------|-------|\n",
    "| **Male**         | 58.6   | 54.7       | 157   |\n",
    "| **Female**       | 42.6   | 39.4       | 84    |\n",
    "| **Total**        | 90     | 151        | 241   |\n"
   ]
  },
  {
   "cell_type": "markdown",
   "metadata": {},
   "source": [
    "### **<span style=\"color:#D35400\">Continuing Hypothesis Testing:</span>**\n",
    "\n",
    "We will now proceed with the hypothesis testing steps after calculating the expected frequencies.\n",
    "\n",
    "---\n",
    "\n",
    "### **<span style=\"color:#28B463\">Step 4: Compute the Chi-Square Statistic</span>**\n",
    "\n",
    "To calculate the Chi-Square statistic, use the formula:\n",
    "\n",
    "$$ \\chi^2 = \\sum \\frac{(Observed - Expected)^2}{Expected} $$\n",
    "\n",
    "Let’s calculate the Chi-Square value for each cell.\n",
    "\n",
    "1. For Male-Smoker:\n",
    "   $$ \\frac{(60 - 58.6)^2}{58.6} = \\frac{(1.4)^2}{58.6} = 0.0335 $$\n",
    "\n",
    "2. For Male-Non-Smoker:\n",
    "   $$ \\frac{(97 - 54.7)^2}{54.7} = \\frac{(42.3)^2}{54.7} = 32.74 $$\n",
    "\n",
    "3. For Female-Smoker:\n",
    "   $$ \\frac{(30 - 42.6)^2}{42.6} = \\frac{(-12.6)^2}{42.6} = 3.72 $$\n",
    "\n",
    "4. For Female-Non-Smoker:\n",
    "   $$ \\frac{(54 - 39.4)^2}{39.4} = \\frac{(14.6)^2}{39.4} = 5.41 $$\n",
    "\n",
    "Now, sum all the calculated values to get the total Chi-Square value:\n",
    "\n",
    "$$ \\chi^2 = 0.0335 + 32.74 + 3.72 + 5.41 = 41.9035 $$\n",
    "\n",
    "---\n",
    "\n",
    "### **<span style=\"color:#28B463\">Step 5: Compare the Chi-Square Statistic to the Critical Value</span>**\n",
    "\n",
    "We will now compare our calculated Chi-Square statistic to the critical value from the Chi-Square distribution table.\n",
    "\n",
    "1. **Degrees of freedom (df)**:\n",
    "   $$ df = (number\\ of\\ rows - 1) \\times (number\\ of\\ columns - 1) $$\n",
    "\n",
    "   For this example:\n",
    "   $$ df = (2 - 1) \\times (2 - 1) = 1 $$\n",
    "\n",
    "2. **Critical value for Chi-Square at 0.05 significance level and 1 degree of freedom**:\n",
    "    - use look-up table to calculate critical-value : https://datatab.net/tutorial/chi-square-distribution\n",
    "    - From the Chi-Square table, the critical value for **df = 1** and **α = 0.05** is **3.841**.\n",
    "\n",
    "---\n",
    "\n",
    "### **<span style=\"color:#28B463\">Step 6: Conclusion</span>**\n",
    "\n",
    "- Our calculated Chi-Square value is **41.9035**, which is **much larger** than the critical value **3.841**.\n",
    "\n",
    "- Since the calculated Chi-Square value is greater than the critical value, we **reject the null hypothesis**. This means there is a statistically significant association between gender (male/female) and smoking status (smoker/non-smoker).\n",
    "\n",
    "---"
   ]
  },
  {
   "cell_type": "code",
   "execution_count": 50,
   "metadata": {},
   "outputs": [],
   "source": [
    "import seaborn as sns\n",
    "import pandas as pd\n",
    "from scipy.stats import chi2_contingency"
   ]
  },
  {
   "cell_type": "code",
   "execution_count": 51,
   "metadata": {},
   "outputs": [
    {
     "data": {
      "text/html": [
       "<div>\n",
       "<style scoped>\n",
       "    .dataframe tbody tr th:only-of-type {\n",
       "        vertical-align: middle;\n",
       "    }\n",
       "\n",
       "    .dataframe tbody tr th {\n",
       "        vertical-align: top;\n",
       "    }\n",
       "\n",
       "    .dataframe thead th {\n",
       "        text-align: right;\n",
       "    }\n",
       "</style>\n",
       "<table border=\"1\" class=\"dataframe\">\n",
       "  <thead>\n",
       "    <tr style=\"text-align: right;\">\n",
       "      <th></th>\n",
       "      <th>total_bill</th>\n",
       "      <th>tip</th>\n",
       "      <th>sex</th>\n",
       "      <th>smoker</th>\n",
       "      <th>day</th>\n",
       "      <th>time</th>\n",
       "      <th>size</th>\n",
       "    </tr>\n",
       "  </thead>\n",
       "  <tbody>\n",
       "    <tr>\n",
       "      <th>0</th>\n",
       "      <td>16.99</td>\n",
       "      <td>1.01</td>\n",
       "      <td>Female</td>\n",
       "      <td>No</td>\n",
       "      <td>Sun</td>\n",
       "      <td>Dinner</td>\n",
       "      <td>2</td>\n",
       "    </tr>\n",
       "    <tr>\n",
       "      <th>1</th>\n",
       "      <td>10.34</td>\n",
       "      <td>1.66</td>\n",
       "      <td>Male</td>\n",
       "      <td>No</td>\n",
       "      <td>Sun</td>\n",
       "      <td>Dinner</td>\n",
       "      <td>3</td>\n",
       "    </tr>\n",
       "    <tr>\n",
       "      <th>2</th>\n",
       "      <td>21.01</td>\n",
       "      <td>3.50</td>\n",
       "      <td>Male</td>\n",
       "      <td>No</td>\n",
       "      <td>Sun</td>\n",
       "      <td>Dinner</td>\n",
       "      <td>3</td>\n",
       "    </tr>\n",
       "    <tr>\n",
       "      <th>3</th>\n",
       "      <td>23.68</td>\n",
       "      <td>3.31</td>\n",
       "      <td>Male</td>\n",
       "      <td>No</td>\n",
       "      <td>Sun</td>\n",
       "      <td>Dinner</td>\n",
       "      <td>2</td>\n",
       "    </tr>\n",
       "    <tr>\n",
       "      <th>4</th>\n",
       "      <td>24.59</td>\n",
       "      <td>3.61</td>\n",
       "      <td>Female</td>\n",
       "      <td>No</td>\n",
       "      <td>Sun</td>\n",
       "      <td>Dinner</td>\n",
       "      <td>4</td>\n",
       "    </tr>\n",
       "  </tbody>\n",
       "</table>\n",
       "</div>"
      ],
      "text/plain": [
       "   total_bill   tip     sex smoker  day    time  size\n",
       "0       16.99  1.01  Female     No  Sun  Dinner     2\n",
       "1       10.34  1.66    Male     No  Sun  Dinner     3\n",
       "2       21.01  3.50    Male     No  Sun  Dinner     3\n",
       "3       23.68  3.31    Male     No  Sun  Dinner     2\n",
       "4       24.59  3.61  Female     No  Sun  Dinner     4"
      ]
     },
     "execution_count": 51,
     "metadata": {},
     "output_type": "execute_result"
    }
   ],
   "source": [
    "#step 1 : Import Libarary and Load Dataset\n",
    "\n",
    "df = sns.load_dataset('tips')\n",
    "df.head()"
   ]
  },
  {
   "cell_type": "code",
   "execution_count": 52,
   "metadata": {},
   "outputs": [
    {
     "data": {
      "text/html": [
       "<div>\n",
       "<style scoped>\n",
       "    .dataframe tbody tr th:only-of-type {\n",
       "        vertical-align: middle;\n",
       "    }\n",
       "\n",
       "    .dataframe tbody tr th {\n",
       "        vertical-align: top;\n",
       "    }\n",
       "\n",
       "    .dataframe thead th {\n",
       "        text-align: right;\n",
       "    }\n",
       "</style>\n",
       "<table border=\"1\" class=\"dataframe\">\n",
       "  <thead>\n",
       "    <tr style=\"text-align: right;\">\n",
       "      <th>smoker</th>\n",
       "      <th>Yes</th>\n",
       "      <th>No</th>\n",
       "    </tr>\n",
       "    <tr>\n",
       "      <th>sex</th>\n",
       "      <th></th>\n",
       "      <th></th>\n",
       "    </tr>\n",
       "  </thead>\n",
       "  <tbody>\n",
       "    <tr>\n",
       "      <th>Male</th>\n",
       "      <td>60</td>\n",
       "      <td>97</td>\n",
       "    </tr>\n",
       "    <tr>\n",
       "      <th>Female</th>\n",
       "      <td>33</td>\n",
       "      <td>54</td>\n",
       "    </tr>\n",
       "  </tbody>\n",
       "</table>\n",
       "</div>"
      ],
      "text/plain": [
       "smoker  Yes  No\n",
       "sex            \n",
       "Male     60  97\n",
       "Female   33  54"
      ]
     },
     "execution_count": 52,
     "metadata": {},
     "output_type": "execute_result"
    }
   ],
   "source": [
    "# Create a contingency table for 'sex' and 'smoker'\n",
    "\n",
    "# contengency table contains count of values which satisfy the constraints like in below table \n",
    "# count of Male who smoker = 60  (i.e. Male & Yes)\n",
    "# count of Female who smoker = 33  (i.e. Female & Yes)\n",
    "# count of Male who don't smoker = 97  (i.e. Male & No)\n",
    "# count of Female who don't smoker = 54  (i.e. Male & No)\n",
    "\n",
    "contingency_table = pd.crosstab(df['sex'], df['smoker'])\n",
    "contingency_table"
   ]
  },
  {
   "cell_type": "code",
   "execution_count": 53,
   "metadata": {},
   "outputs": [],
   "source": [
    "# Perform the Chi-Square Test of Independence\n",
    "chi2_stat, p_value, dof, expected = chi2_contingency(contingency_table)"
   ]
  },
  {
   "cell_type": "markdown",
   "metadata": {},
   "source": [
    "### **<span style=\"color:#D35400\">Table: Expected Frequencies</span>**\n",
    "\n",
    "| Row/Column        | Column A | Column B | Total  |\n",
    "|-------------------|----------|----------|--------|\n",
    "| **Row 1**         | $E_{1A} = \\frac{(60 + 97) \\times (60 + 30)}{60 + 97 + 30 + 54} = \\frac{157 \\times 90}{241} = 59.0$ | $E_{1B} = \\frac{(60 + 97) \\times (30 + 54)}{60 + 97 + 30 + 54} = \\frac{157 \\times 84}{241} = 54.0$ | $157$   |\n",
    "| **Row 2**         | $E_{2A} = \\frac{(60 + 54) \\times (60 + 30)}{60 + 97 + 30 + 54} = \\frac{114 \\times 90}{241} = 42.6$ | $E_{2B} = \\frac{(60 + 54) \\times (30 + 54)}{60 + 97 + 30 + 54} = \\frac{114 \\times 84}{241} = 39.4$ | $114$   |\n",
    "| **Total**         | $241$    | $241$    | $241$  |"
   ]
  },
  {
   "cell_type": "code",
   "execution_count": 55,
   "metadata": {},
   "outputs": [
    {
     "name": "stdout",
     "output_type": "stream",
     "text": [
      "Expected Frequencies:\n",
      " [[59.84016393 97.15983607]\n",
      " [33.15983607 53.84016393]]\n"
     ]
    }
   ],
   "source": [
    "print(\"Expected Frequencies:\\n\", expected)"
   ]
  },
  {
   "cell_type": "code",
   "execution_count": 56,
   "metadata": {},
   "outputs": [
    {
     "name": "stdout",
     "output_type": "stream",
     "text": [
      "Chi-Square Statistic: 0.0\n",
      "P-value: 1.0\n",
      "Degrees of Freedom: 1\n",
      "Fail to reject the null hypothesis: No significant association between sex and smoker status.\n"
     ]
    }
   ],
   "source": [
    "# Print the results\n",
    "print(\"Chi-Square Statistic:\", chi2_stat)\n",
    "print(\"P-value:\", p_value)S\n",
    "print(\"Degrees of Freedom:\", dof)\n",
    "\n",
    "# Conclusion\n",
    "alpha = 0.05\n",
    "if p_value < alpha:\n",
    "    print(\"Reject the null hypothesis: There is a significant association between sex and smoker status.\")\n",
    "else:\n",
    "    print(\"Fail to reject the null hypothesis: No significant association between sex and smoker status.\")"
   ]
  },
  {
   "cell_type": "markdown",
   "metadata": {},
   "source": [
    "## **<span style=\"color:#28B463\">Chi-Square Goodness of Fit Test</span>**"
   ]
  },
  {
   "cell_type": "markdown",
   "metadata": {},
   "source": [
    "\n",
    "In this example, we will test whether the observed distribution of a categorical variable fits an expected distribution. \n",
    "\n",
    "### **<span style=\"color:#D35400\"><b>Step 1: Define the Hypotheses</b></span>**\n",
    "\n",
    "- **Null Hypothesis (H0)**: The observed frequencies match the expected frequencies (the distribution fits).\n",
    "- **Alternative Hypothesis (H1)**: The observed frequencies do not match the expected frequencies (the distribution does not fit).\n",
    "\n",
    "---\n",
    "\n",
    "### **<span style=\"color:#D35400\"><b>Step 2: Gather Data</b></span>**\n",
    "\n",
    "Assume we have observed the following frequencies for a die roll:\n",
    "\n",
    "| Outcome | Observed Frequency |\n",
    "|---------|--------------------|\n",
    "| 1       | 10                 |\n",
    "| 2       | 12                 |\n",
    "| 3       | 8                  |\n",
    "| 4       | 15                 |\n",
    "| 5       | 20                 |\n",
    "| 6       | 10                 |\n",
    "\n",
    "- **Total Observed Frequency**: 75\n",
    "\n",
    "Assuming a fair die, the expected frequency for each outcome (1 to 6) is:\n",
    "\n",
    "- **Expected Frequency**: \\( \\frac{75}{6} = 12.5 \\)\n",
    "\n",
    "---\n",
    "\n",
    "### **<span style=\"color:#28B463\"><b>Step 3: Calculate the Expected Frequencies</b></span>**\n",
    "\n",
    "- For a fair die, the expected frequencies for each outcome would be equal:\n",
    "\n",
    "| Outcome | Expected Frequency |\n",
    "|---------|--------------------|\n",
    "| 1       | 12.5               |\n",
    "| 2       | 12.5               |\n",
    "| 3       | 12.5               |\n",
    "| 4       | 12.5               |\n",
    "| 5       | 12.5               |\n",
    "| 6       | 12.5               |\n",
    "\n",
    "---\n",
    "\n",
    "### **<span style=\"color:#28B463\"><b>Step 4: Compute the Chi-Square Statistic</b></span>**\n",
    "\n",
    "To calculate the Chi-Square statistic, use the formula:\n",
    "\n",
    "$$ \\chi^2 = \\sum \\frac{(Observed - Expected)^2}{Expected} $$\n",
    "\n",
    "Let's calculate the Chi-Square value for each outcome.\n",
    "\n",
    "1. For outcome 1:\n",
    "   $$ \\frac{(10 - 12.5)^2}{12.5} = \\frac{(-2.5)^2}{12.5} = 0.5 $$\n",
    "\n",
    "2. For outcome 2:\n",
    "   $$ \\frac{(12 - 12.5)^2}{12.5} = \\frac{(-0.5)^2}{12.5} = 0.02 $$\n",
    "\n",
    "3. For outcome 3:\n",
    "   $$ \\frac{(8 - 12.5)^2}{12.5} = \\frac{(-4.5)^2}{12.5} = 1.62 $$\n",
    "\n",
    "4. For outcome 4:\n",
    "   $$ \\frac{(15 - 12.5)^2}{12.5} = \\frac{(2.5)^2}{12.5} = 0.5 $$\n",
    "\n",
    "5. For outcome 5:\n",
    "   $$ \\frac{(20 - 12.5)^2}{12.5} = \\frac{(7.5)^2}{12.5} = 4.5 $$\n",
    "\n",
    "6. For outcome 6:\n",
    "   $$ \\frac{(10 - 12.5)^2}{12.5} = \\frac{(-2.5)^2}{12.5} = 0.5 $$\n",
    "\n",
    "Now, sum all the calculated values to get the total Chi-Square value:\n",
    "\n",
    "$$ \\chi^2 = 0.5 + 0.02 + 1.62 + 0.5 + 4.5 + 0.5 = 7.14 $$\n",
    "\n",
    "---\n",
    "\n",
    "### **<span style=\"color:#28B463\"><b>Step 5: Determine Degrees of Freedom</b></span>**\n",
    "\n",
    "**Degrees of Freedom (df)**:\n",
    "$$ df = k - 1 $$\n",
    "\n",
    "Where \\( k \\) is the number of categories (outcomes). In this case:\n",
    "\n",
    "$$ df = 6 - 1 = 5 $$\n",
    "\n",
    "---\n",
    "\n",
    "### **<span style=\"color:#28B463\"><b>Step 6: Compare the Chi-Square Statistic to the Critical Value</b></span>**\n",
    "\n",
    "1. **Critical value for Chi-Square at 0.05 significance level**:\n",
    "   - From the Chi-Square distribution table, the critical value for **df = 5** and **α = 0.05** is **11.070**.\n",
    "\n",
    "---\n",
    "\n",
    "### **<span style=\"color:#28B463\"><b>Step 7: Conclusion</b></span>**\n",
    "\n",
    "- Our calculated Chi-Square value is **7.14**, which is **less than** the critical value **11.070**.\n",
    "- Since the calculated Chi-Square value is not greater than the critical value, we **fail to reject the null hypothesis**. This means there is no statistically significant difference between the observed and expected frequencies, indicating that the die is fair.\n",
    "\n",
    "---"
   ]
  },
  {
   "cell_type": "code",
   "execution_count": 18,
   "metadata": {},
   "outputs": [
    {
     "name": "stdout",
     "output_type": "stream",
     "text": [
      "Chi-Square Statistic: 5.0\n",
      "P-value: 0.41588018699550794\n",
      "Fail to reject the null hypothesis: The die is fair.\n"
     ]
    }
   ],
   "source": [
    "import numpy as np\n",
    "import scipy.stats as stats\n",
    "import matplotlib.pyplot as plt\n",
    "\n",
    "# Observed frequencies from rolling the die\n",
    "observed = np.array([12, 8, 10, 15, 9, 6])  # Example counts for faces 1 to 6\n",
    "\n",
    "# Expected frequencies for a fair die\n",
    "expected = np.array([10, 10, 10, 10, 10, 10])  # Expected counts for faces 1 to 6\n",
    "\n",
    "# Perform the Chi-Square Goodness of Fit Test\n",
    "chi2_stat, p_value = stats.chisquare(observed, expected)\n",
    "\n",
    "# Print the results\n",
    "print(\"Chi-Square Statistic:\", chi2_stat)\n",
    "print(\"P-value:\", p_value)\n",
    "\n",
    "# Decision making\n",
    "alpha = 0.05  # significance level\n",
    "if p_value < alpha:\n",
    "    print(\"Reject the null hypothesis: The die is not fair.\")\n",
    "else:\n",
    "    print(\"Fail to reject the null hypothesis: The die is fair.\")\n"
   ]
  },
  {
   "cell_type": "code",
   "execution_count": 19,
   "metadata": {},
   "outputs": [
    {
     "data": {
      "image/png": "[encoded data removed]",
      "text/plain": [
       "<Figure size 640x480 with 1 Axes>"
      ]
     },
     "metadata": {},
     "output_type": "display_data"
    }
   ],
   "source": [
    "# Visualization\n",
    "labels = ['1', '2', '3', '4', '5', '6']\n",
    "x = np.arange(len(labels))\n",
    "\n",
    "# Plotting observed vs expected frequencies\n",
    "plt.bar(x - 0.2, observed, width=0.4, label='Observed', color='blue')\n",
    "plt.bar(x + 0.2, expected, width=0.4, label='Expected', color='orange')\n",
    "plt.xticks(x, labels)\n",
    "plt.xlabel('Die Faces')\n",
    "plt.ylabel('Frequency')\n",
    "plt.title('Observed vs Expected Frequencies for Die Rolls')\n",
    "plt.legend()\n",
    "plt.show()"
   ]
  },
  {
   "cell_type": "markdown",
   "metadata": {},
   "source": []
  },
  {
   "cell_type": "markdown",
   "metadata": {},
   "source": [
    "# **<span style=\"color:#28B463\">Anova Test</span>**"
   ]
  },
  {
   "cell_type": "code",
   "execution_count": null,
   "metadata": {},
   "outputs": [],
   "source": []
  }
 ],
 "metadata": {
  "kernelspec": {
   "display_name": "NeuralNet",
   "language": "python",
   "name": "python3"
  },
  "language_info": {
   "codemirror_mode": {
    "name": "ipython",
    "version": 3
   },
   "file_extension": ".py",
   "mimetype": "text/x-python",
   "name": "python",
   "nbconvert_exporter": "python",
   "pygments_lexer": "ipython3",
   "version": "3.11.10"
  }
 },
 "nbformat": 4,
 "nbformat_minor": 2
}
