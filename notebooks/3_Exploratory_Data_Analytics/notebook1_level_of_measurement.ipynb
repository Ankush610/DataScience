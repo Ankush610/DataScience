{
 "cells": [
  {
   "cell_type": "markdown",
   "metadata": {},
   "source": [
    "# **<span style=\"color:#2E86C1\">Statistics</span>**\n",
    "\n",
    "<span style=\"color:#2E86C1\"><b>What is Statistics?</b></span>\n",
    "\n",
    "- <span style=\"color:#D35400\"><b>Definition:</b></span>  \n",
    "  **Statistics** is a branch of mathematics that deals with collecting, analyzing, interpreting, presenting, and organizing data. It provides methods and techniques for making sense of data, allowing researchers, analysts, and decision-makers to draw meaningful conclusions and make informed decisions based on numerical information.\n",
    "\n",
    "- <span style=\"color:#D35400\"><b>Key Components of Statistics:</b></span>\n",
    "    - <span style=\"color:#28B463\"><b>Data Collection:</b></span>  \n",
    "      Gathering data through surveys, experiments, or observational studies.\n",
    "      \n",
    "    - <span style=\"color:#28B463\"><b>Data Analysis:</b></span>  \n",
    "      Using various mathematical and computational methods to analyze and summarize data. This includes descriptive statistics (mean, median, mode, etc.) and inferential statistics (hypothesis testing, confidence intervals, etc.).\n",
    "      \n",
    "    - <span style=\"color:#28B463\"><b>Data Interpretation:</b></span>  \n",
    "      Drawing conclusions and making predictions based on the analyzed data, considering the context and limitations of the data.\n",
    "      \n",
    "    - <span style=\"color:#28B463\"><b>Data Presentation:</b></span>  \n",
    "      Communicating the findings effectively through charts, graphs, tables, and reports to convey the insights to others.\n",
    "\n",
    "- <span style=\"color:#D35400\"><b>Importance of Statistics:</b></span>\n",
    "    - Helps in understanding trends and patterns.\n",
    "    - Supports decision-making in various fields, including business, healthcare, social sciences, and more.\n",
    "    - Provides tools for testing hypotheses and validating scientific research.\n"
   ]
  },
  {
   "cell_type": "markdown",
   "metadata": {},
   "source": [
    "# **<span style=\"color:#2E86C1\">Descriptive Statistics</span>**"
   ]
  },
  {
   "cell_type": "markdown",
   "metadata": {},
   "source": [
    "After collecting data, one of the first things to do is to graph the data, calculate the mean, and get an overview of the distributions of the data. This is the task of descriptive statistics.\n",
    "\n",
    "**<span style=\"color:#D35400; font-size: 20px;\">Definition:</span>**  \n",
    "\"The term descriptive statistics covers statistical methods for describing data using statistical characteristics, charts, graphics, or tables.\"\n",
    "\n",
    "Depending on the question and the available measurement scale, different key figures, tables, and graphics are used for evaluation.\n",
    "\n",
    "##  <span style=\"color:#28B463\"><b>Level of Measurement:</b></span>\n",
    "\n",
    "The level of measurement of a variable can be either nominal, ordinal, or metric. In a nutshell:\n",
    "- For **nominal variables**, the values can be differentiated.\n",
    "- For **ordinal variables**, the values can be sorted.\n",
    "- For **metric scale level**, the distances between the values can be calculated.\n",
    "\n",
    "Nominal and ordinal variables are also called **categorical variables**.\n",
    "\n",
    "<center><img src=\"../../images/level_of_measurement.png\" alt=\"error\" width=\"600\"/></center>\n",
    "\n",
    "Different levels of measurement support different statistical analyses. For instance, mean and standard deviation are suitable for metric data. In some cases, it may be suitable for ordinal data, but only if you know how to interpret the results correctly. It definitely makes no sense to calculate it for nominal data.\n",
    "\n",
    "The level of measurement also indicates which hypothesis tests are possible and determines the most effective type of data visualization.\n",
    "\n",
    "---"
   ]
  },
  {
   "cell_type": "markdown",
   "metadata": {},
   "source": [
    "### **<span style=\"color:purple\">Categorical Variables</span>**"
   ]
  },
  {
   "cell_type": "markdown",
   "metadata": {},
   "source": [
    "Variables that have a nominal scale or an ordinal scale are referred to as categorical variables. Categorical is an umbrella term for variables scaled nominally and ordinally.\n",
    "- Categorical variables can have a limited and usually fixed number of expressions, e.g., country with \"Germany,\" \"Austria,\" ... or gender with \"female\" and \"male.\" \n",
    "- It is essential that there is a finite number of categories or groups. The different categories may have a ranking but must not.\n"
   ]
  },
  {
   "cell_type": "markdown",
   "metadata": {},
   "source": [
    "- **<span style=\"color:#D35400; font-size: 20px;\">Nominal Variables</span>**\n",
    "    - The nominal measurement scale is the lowest level of measurement in statistics, thus having the lowest information content. Possible values of the variables can be distinguished, but a meaningful order is not possible. If there are only two characteristics, such as in the case of gender (male and female), we also speak of dichotomous or binary variables.\n",
    "        - Only relations \"equal\" and \"unequal\" are possible.\n",
    "        - No logical ranking of categories.\n",
    "        - The order of the answer categories is interchangeable.\n",
    "        - Nominal characteristics with only two expressions are also called \"binary\" or \"dichotomous.\""
   ]
  },
  {
   "cell_type": "code",
   "execution_count": 2,
   "metadata": {},
   "outputs": [
    {
     "name": "stdout",
     "output_type": "stream",
     "text": [
      "Nominal Data Counts:\n",
      "Male: 3\n",
      "Female: 3\n",
      "Other: 1\n"
     ]
    }
   ],
   "source": [
    "# Nominal Variables\n",
    "nominal_data = ['Male', 'Female', 'Female', 'Male', 'Other', 'Female', 'Male']\n",
    "\n",
    "# Count occurrences of each category\n",
    "from collections import Counter\n",
    "nominal_counts = Counter(nominal_data)\n",
    "\n",
    "# Output nominal data\n",
    "print(\"Nominal Data Counts:\")\n",
    "for category, count in nominal_counts.items():\n",
    "    print(f\"{category}: {count}\")\n"
   ]
  },
  {
   "cell_type": "markdown",
   "metadata": {},
   "source": [
    "\n",
    "- **<span style=\"color:#D35400; font-size: 20px;\">Ordinal Variables</span>**\n",
    "    - The ordinal level of measurement is the next higher level, containing nominal information with the added ability to form a ranking. A classic example of the ordinal scale is school grades; here a ranking can be formed, but it cannot be said that the distance between A and B is the same as the distance between B and C.\n",
    "        - Next higher scale of measurement.\n",
    "        - \"Equal\" and \"unequal,\" as well as \"greater\" and \"smaller,\" can be determined.\n",
    "        - There is a logical hierarchy of categories.\n",
    "        - The distances between the numerical values are not equal and cannot be interpreted.\n"
   ]
  },
  {
   "cell_type": "code",
   "execution_count": 3,
   "metadata": {},
   "outputs": [
    {
     "name": "stdout",
     "output_type": "stream",
     "text": [
      "Ordinal Data Counts with Ranks:\n",
      "Poor (Rank 1): 2\n",
      "Fair (Rank 2): 2\n",
      "Good (Rank 3): 2\n",
      "Excellent (Rank 4): 1\n"
     ]
    }
   ],
   "source": [
    "\n",
    "# Ordinal Variables\n",
    "ordinal_data = ['Poor', 'Fair', 'Good', 'Good', 'Excellent', 'Fair', 'Poor']\n",
    "\n",
    "# Map ordinal ranks\n",
    "ordinal_rank = {\n",
    "    'Poor': 1,\n",
    "    'Fair': 2,\n",
    "    'Good': 3,\n",
    "    'Excellent': 4\n",
    "}\n",
    "\n",
    "# Count occurrences\n",
    "ordinal_counts = Counter(ordinal_data)\n",
    "\n",
    "# Output ordinal data with ranks\n",
    "print(\"Ordinal Data Counts with Ranks:\")\n",
    "for category, count in ordinal_counts.items():\n",
    "    rank = ordinal_rank[category]\n",
    "    print(f\"{category} (Rank {rank}): {count}\")\n"
   ]
  },
  {
   "cell_type": "markdown",
   "metadata": {},
   "source": [
    "### **<span style=\"color:purple\">Numeric Variables</span>**"
   ]
  },
  {
   "cell_type": "markdown",
   "metadata": {},
   "source": [
    "\n",
    "- **<span style=\"color:#D35400; font-size: 20px;\">Metric Variables</span>**\n",
    "    - Metric variables represent the highest possible level of measurement. With a metric level of measurement, characteristic values can be compared, sorted, and the distances between the values can be calculated. Examples include the weight and age of subjects.\n",
    "        - Highest level of measurement.\n",
    "        - Creation of rankings is possible.\n",
    "        - \"Equal\" and \"unequal,\" as well as \"greater\" and \"smaller,\" can be determined.\n",
    "        - Differences and sums can be meaningfully formed.\n"
   ]
  },
  {
   "cell_type": "code",
   "execution_count": 4,
   "metadata": {},
   "outputs": [
    {
     "name": "stdout",
     "output_type": "stream",
     "text": [
      "Metric Data:\n",
      "Mean: 52.72\n",
      "Standard Deviation: 23.85\n"
     ]
    }
   ],
   "source": [
    "\n",
    "# Metric Variables\n",
    "metric_data = [45.5, 23.0, 56.7, 34.2, 67.8, 89.1]\n",
    "\n",
    "# Calculate mean and standard deviation ( you will learn what this is in next notebooks )\n",
    "import statistics\n",
    "\n",
    "mean_metric = statistics.mean(metric_data)\n",
    "std_dev_metric = statistics.stdev(metric_data)\n",
    "\n",
    "# Output metric data\n",
    "print(\"Metric Data:\")\n",
    "print(f\"Mean: {mean_metric:.2f}\")\n",
    "print(f\"Standard Deviation: {std_dev_metric:.2f}\")\n"
   ]
  },
  {
   "cell_type": "markdown",
   "metadata": {},
   "source": [
    "- **<span style=\"color:#D35400; font-size: 20px;\">Ratio Scale and Interval Scale</span>**\n",
    "    - The metric level of measurement can be further subdivided into interval scale and ratio scale. As the name suggests, the values of the ratio scale can be expressed in a ratio. Thus, a statement like the following can be made: \"One value is twice as large as another.\" For this, an absolute zero must be available as a reference.\n",
    "        \n",
    "        - **Example Ratio Scale:**  \n",
    "          The time of marathon runners is measured. Here, the statement can be made that the fastest runner is twice as fast as the last runner. This is possible because there is an absolute zero point at the beginning of the marathon where all runners start from zero.\n",
    "        \n",
    "        - **Example Interval Scale:**  \n",
    "          If the stopwatch is forgotten to start at the beginning of the marathon and only the differences are measured starting from the fastest runner, the runners cannot be compared proportionally. In this case, it can be said how big the interval between the runners is (e.g., runner A is 22 minutes faster than runner B), but it cannot be said that runner A ran 20 percent faster than runner B.\n"
   ]
  },
  {
   "cell_type": "code",
   "execution_count": 5,
   "metadata": {},
   "outputs": [
    {
     "name": "stdout",
     "output_type": "stream",
     "text": [
      "Marathon Times (in minutes):\n",
      "30.00 minutes\n",
      "35.00 minutes\n",
      "40.00 minutes\n",
      "45.00 minutes\n"
     ]
    }
   ],
   "source": [
    "\n",
    "# Ratio Scale Example\n",
    "# Time taken (in seconds) for marathon runners\n",
    "marathon_times = [1800, 2100, 2400, 2700]  # in seconds\n",
    "\n",
    "# Convert to minutes for interpretation\n",
    "marathon_times_minutes = [time / 60 for time in marathon_times]\n",
    "\n",
    "# Output ratio scale data\n",
    "print(\"Marathon Times (in minutes):\")\n",
    "for time in marathon_times_minutes:\n",
    "    print(f\"{time:.2f} minutes\")\n"
   ]
  }
 ],
 "metadata": {
  "kernelspec": {
   "display_name": "NeuralNet",
   "language": "python",
   "name": "python3"
  },
  "language_info": {
   "codemirror_mode": {
    "name": "ipython",
    "version": 3
   },
   "file_extension": ".py",
   "mimetype": "text/x-python",
   "name": "python",
   "nbconvert_exporter": "python",
   "pygments_lexer": "ipython3",
   "version": "3.11.10"
  }
 },
 "nbformat": 4,
 "nbformat_minor": 2
}
