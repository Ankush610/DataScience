{
 "cells": [
  {
   "cell_type": "markdown",
   "metadata": {},
   "source": [
    "# <span style=\"color:#2E86C1\"><b>Introduction to RAPIDS: GPU-Accelerated Data Science</b></span>\n",
    "\n",
    "**RAPIDS** is an **open-source** suite of libraries and tools developed by NVIDIA to accelerate data science workflows using **NVIDIA GPUs**. Designed to speed up the end-to-end data pipeline, RAPIDS enables data processing, machine learning, and data visualization to run on the GPU, significantly reducing computational time compared to CPU-based processing.\n",
    "\n",
    "### <span style=\"color:#D35400\"><b>Key Libraries in RAPIDS</b></span>\n",
    "\n",
    "RAPIDS includes several libraries optimized for specific stages in the data science pipeline, two of which are:\n",
    "\n",
    " - Dataframe processing with cuDF (similar API to pandas)\n",
    " - Machine learning with cuML (similar API to scikit-learn)\n",
    " - Graph processing with cuGraph (similar API to networkX)\n",
    " - Spatial analytics with cuSpatial (similar API to geoPandas)\n",
    " - Image processing with cuCIM (similar API to scikit-image)\n",
    " - Seamless cross-filtered dashboards with cuxfilter\n",
    " - Low level compute primitives with RAFT\n",
    " - Apache Spark acceleration with Spark RAPIDS\n",
    "\n",
    "and many more at [here!](https://github.com/orgs/rapidsai/repositories?type=all)\n",
    "\n",
    "### <span style=\"color:#28B463\"><b>cuDF: GPU DataFrames for Data Processing</b></span>\n",
    "\n",
    "**cuDF** is a RAPIDS library for working with DataFrames on GPUs, providing a similar API and functionality to pandas. It allows data scientists to leverage the power of parallel GPU computation for faster data manipulation and preprocessing.\n",
    "\n",
    "- **Core Functionality**: Like **pandas**, cuDF enables operations like filtering, grouping, aggregating, merging, and joining. It’s designed to handle large datasets that might otherwise be slow to process on a CPU.\n",
    "- **Syntax Similarity**: Since the cuDF syntax is nearly identical to pandas, users familiar with pandas can transition to GPU-accelerated workflows with minimal code changes.\n",
    "- **Performance**: cuDF can process large datasets in parallel, often achieving orders-of-magnitude speed improvements over pandas on large data.\n",
    "\n",
    "#### <span style=\"color:#8E44AD\"><b>Example Comparison</b></span>\n",
    "\n",
    "**Pandas**:\n",
    "```bash\n",
    "import pandas as pd\n",
    "df = pd.DataFrame({'a': [1, 2, 3], 'b': [4, 5, 6]})\n",
    "df['c'] = df['a'] + df['b']\n",
    "```\n",
    "\n",
    "**cuDF**:\n",
    "```bash\n",
    "import cudf\n",
    "df = cudf.DataFrame({'a': [1, 2, 3], 'b': [4, 5, 6]})\n",
    "df['c'] = df['a'] + df['b']\n",
    "```\n",
    "\n",
    "### <span style=\"color:#F39C12\"><b>cuML: GPU Machine Learning Library</b></span>\n",
    "\n",
    "**cuML** is the machine learning library within RAPIDS, providing GPU-accelerated implementations of machine learning algorithms similar to those in **scikit-learn**. This enables faster model training and prediction, particularly useful for large datasets.\n",
    "\n",
    "- **Algorithm Support**: cuML includes popular algorithms like linear regression, k-means clustering, PCA, and more, with similar syntax to scikit-learn.\n",
    "- **Performance**: By leveraging the parallel processing power of GPUs, cuML achieves much faster computation times for model training and inference compared to CPU-based scikit-learn.\n",
    "- **Seamless Integration**: With an API that closely mirrors scikit-learn, cuML allows for a smooth transition for users who want to accelerate their machine learning workflows without learning new syntax.\n",
    "\n",
    "#### <span style=\"color:#8E44AD\"><b>Example Comparison</b></span>\n",
    "\n",
    "**Scikit-learn**:\n",
    "```bash\n",
    "from sklearn.linear_model import LinearRegression\n",
    "model = LinearRegression()\n",
    "model.fit(X_train, y_train)\n",
    "predictions = model.predict(X_test)\n",
    "```\n",
    "\n",
    "**cuML**:\n",
    "```bash\n",
    "from cuml.linear_model import LinearRegression\n",
    "model = LinearRegression()\n",
    "model.fit(X_train, y_train)\n",
    "predictions = model.predict(X_test)\n",
    "```\n",
    "\n",
    "### <span style=\"color:#3498DB\"><b>Benefits of RAPIDS for Data Science</b></span>\n",
    "\n",
    "1. **Speed**: GPU acceleration enables faster data processing, model training, and inference, reducing the overall time to insights.\n",
    "2. **Familiar Syntax**: RAPIDS libraries like cuDF and cuML closely mirror pandas and scikit-learn, making it easy to adopt without extensive retraining.\n",
    "3. **Scalability**: RAPIDS is particularly suited for large datasets that challenge CPU resources, allowing for scaling complex workflows on a single GPU or multiple GPUs.\n",
    "\n",
    "RAPIDS represents a transformative approach for data scientists and machine learning practitioners, unlocking the computational power of GPUs for faster, more scalable data analysis and machine learning."
   ]
  },
  {
   "cell_type": "markdown",
   "metadata": {},
   "source": [
    "# <span style=\"color:#2E86C1\"><b>Setting Up RAPIDS on Your System</b></span>"
   ]
  },
  {
   "cell_type": "markdown",
   "metadata": {},
   "source": [
    "Setting up **RAPIDS** on your system enables the use of **cuDF**, **cuML**, and **cuGraph** libraries for GPU-accelerated data processing, machine learning, and graph analytics. Below, we’ll go through the setup process, ensuring that RAPIDS is correctly installed on a GPU-capable system. The setup includes verifying CUDA compatibility, installing dependencies, and setting up the RAPIDS libraries.\n",
    "\n",
    "### <span style=\"color:#D35400\"><b>1. System Requirements</b></span>\n",
    "\n",
    "To use RAPIDS, you need:\n",
    "- A **NVIDIA GPU** with CUDA capability (10.x or 11.x) installed.\n",
    "- **Python** 3.7 or higher.\n",
    "- A compatible operating system (RAPIDS supports Linux and some versions of Windows, but Linux is recommended).\n",
    "\n",
    "> **Tip**: Use NVIDIA’s `nvidia-smi` command to confirm your CUDA version and GPU details before starting.\n",
    "\n",
    "### <span style=\"color:#28B463\"><b>2. Setting Up a Conda Environment</b></span>\n",
    "\n",
    "To keep dependencies organized, we’ll set up RAPIDS within a dedicated **Conda environment**.\n",
    "\n",
    "```bash\n",
    "# Create and activate a new Conda environment\n",
    "conda create -n rapids_env python=3.8 -y\n",
    "conda activate rapids_env\n",
    "```\n",
    "\n",
    "### <span style=\"color:#8E44AD\"><b>3. Installing RAPIDS Libraries</b></span>\n",
    "\n",
    "RAPIDS provides Conda packages that simplify the installation process. You can install the RAPIDS suite with specific versions, which will include **cuDF**, **cuML**, and **cuGraph**.\n",
    "\n",
    "- **Installing RAPIDS using Conda** (recommended for stability):\n",
    "\n",
    "```bash\n",
    "# Add RAPIDS channels\n",
    "conda install -c rapidsai -c nvidia -c conda-forge -c defaults \\\n",
    "    cudf=23.10 cuml=23.10 cugraph=23.10 python=3.8 cudatoolkit=11.2\n",
    "```\n",
    "\n",
    "In this example:\n",
    "- We specify RAPIDS version **23.10** (latest stable at the time) and **CUDA 11.2**. Update these values as needed for compatibility with your system.\n",
    "\n",
    "> **Note**: Make sure that the CUDA version in the `cudatoolkit` argument matches your system's CUDA installation.\n",
    "\n",
    "### <span style=\"color:#F39C12\"><b>4. Verifying the Installation</b></span>\n",
    "\n",
    "After installing RAPIDS, you can test each library to confirm they’re working correctly.\n",
    "\n",
    "```bash\n",
    "import cudf\n",
    "import cuml\n",
    "import cugraph\n",
    "\n",
    "# Example cuDF DataFrame\n",
    "df = cudf.DataFrame({'a': [0, 1, 2], 'b': [3, 4, 5]})\n",
    "print(df.head())\n",
    "\n",
    "# Example cuML model\n",
    "from cuml.linear_model import LinearRegression\n",
    "print(\"cuML and cuDF working properly if no error.\")\n",
    "\n",
    "# Example cuGraph graph\n",
    "import cudf\n",
    "import cugraph\n",
    "edges = cudf.DataFrame({'src': [0, 1, 2], 'dst': [1, 2, 3]})\n",
    "G = cugraph.Graph()\n",
    "G.from_cudf_edgelist(edges, source='src', destination='dst')\n",
    "print(\"cuGraph working if no error.\")\n",
    "```\n",
    "\n",
    "### <span style=\"color:#3498DB\"><b>5. Running RAPIDS on Jupyter Notebooks (Optional)</b></span>\n",
    "\n",
    "For ease of development, you can set up Jupyter Notebook to work with RAPIDS.\n",
    "\n",
    "```bash\n",
    "# Install Jupyter Notebook\n",
    "conda install -c conda-forge notebook\n",
    "\n",
    "# Launch Jupyter Notebook\n",
    "jupyter notebook\n",
    "```\n",
    "\n",
    "> After launching, you can open a new notebook and test RAPIDS functions as shown above.\n",
    "\n",
    "### <span style=\"color:#27AE60\"><b>Troubleshooting</b></span>\n",
    "\n",
    "1. **CUDA Compatibility**: Ensure the CUDA version specified in `cudatoolkit` aligns with your system’s CUDA installation.\n",
    "2. **Library Import Errors**: If you encounter import errors, try upgrading or downgrading the RAPIDS version to match your system’s GPU and CUDA compatibility.\n",
    "\n",
    "RAPIDS is now set up, enabling you to leverage GPU acceleration for data processi\n",
    "\n",
    "### <span style=\"color:#8E44AD\"><b>For More Information on cuDF and cuML Libraries Visit These sites :</b></span>\n",
    "-   <b>Rapids Site : </b>[Click here](https://rapids.ai/) \n",
    "-   <b>cuDF Documentation : </b>[Click here](https://docs.rapids.ai/api/cudf/stable/user_guide/)\n",
    "-   <b>cuML Documentation : </b>[Click here](https://docs.rapids.ai/api/cuml/stable/user_guide/)ng, machine learning, and graph analytics with **cuDF**, **cuML**, and **cuGraph**!"
   ]
  },
  {
   "cell_type": "markdown",
   "metadata": {},
   "source": [
    "## <span style=\"color:#2E86C1\"><b>CODE</b></span>\n",
    "#### <b>cuDF , cuML thes eare community based open source projects under development so you may have to do some amount of Troubleshooting till you get CPU codes working on GPU using these libraries</b>  "
   ]
  },
  {
   "cell_type": "code",
   "execution_count": 1,
   "metadata": {
    "_cell_guid": "b1076dfc-b9ad-4769-8c92-a6c4dae69d19",
    "_uuid": "8f2839f25d086af736a60e9eeb907d3b93b6e0e5",
    "execution": {
     "iopub.execute_input": "2024-11-08T06:17:59.895671Z",
     "iopub.status.busy": "2024-11-08T06:17:59.895159Z",
     "iopub.status.idle": "2024-11-08T06:17:59.901375Z",
     "shell.execute_reply": "2024-11-08T06:17:59.899817Z",
     "shell.execute_reply.started": "2024-11-08T06:17:59.895611Z"
    },
    "trusted": true
   },
   "outputs": [],
   "source": [
    "# !conda install -c rapidsai -c nvidia -c conda-forge rapids=22.12 cudatoolkit=11.2\n",
    "# GPU compatibilty need to be tested otherwise library won't work "
   ]
  },
  {
   "cell_type": "code",
   "execution_count": 33,
   "metadata": {
    "execution": {
     "iopub.execute_input": "2024-11-08T06:33:51.744186Z",
     "iopub.status.busy": "2024-11-08T06:33:51.743381Z",
     "iopub.status.idle": "2024-11-08T06:33:51.749675Z",
     "shell.execute_reply": "2024-11-08T06:33:51.748626Z",
     "shell.execute_reply.started": "2024-11-08T06:33:51.744130Z"
    },
    "trusted": true
   },
   "outputs": [],
   "source": [
    "import cudf as pd # pandas equivalent of CUDA library \n",
    "from cuml.model_selection import train_test_split , GridSearchCV , StratifiedKFold \n",
    "from cuml.linear_model import LogisticRegression\n",
    "from cuml.preprocessing import LabelEncoder\n",
    "from cuml.metrics import confusion_matrix"
   ]
  },
  {
   "cell_type": "code",
   "execution_count": 3,
   "metadata": {
    "execution": {
     "iopub.execute_input": "2024-11-08T06:18:13.120527Z",
     "iopub.status.busy": "2024-11-08T06:18:13.119288Z",
     "iopub.status.idle": "2024-11-08T06:18:14.276753Z",
     "shell.execute_reply": "2024-11-08T06:18:14.275739Z",
     "shell.execute_reply.started": "2024-11-08T06:18:13.120491Z"
    },
    "trusted": true
   },
   "outputs": [
    {
     "data": {
      "text/html": [
       "<div>\n",
       "<style scoped>\n",
       "    .dataframe tbody tr th:only-of-type {\n",
       "        vertical-align: middle;\n",
       "    }\n",
       "\n",
       "    .dataframe tbody tr th {\n",
       "        vertical-align: top;\n",
       "    }\n",
       "\n",
       "    .dataframe thead th {\n",
       "        text-align: right;\n",
       "    }\n",
       "</style>\n",
       "<table border=\"1\" class=\"dataframe\">\n",
       "  <thead>\n",
       "    <tr style=\"text-align: right;\">\n",
       "      <th></th>\n",
       "      <th>Nitrogen</th>\n",
       "      <th>Phosphorus</th>\n",
       "      <th>Potassium</th>\n",
       "      <th>Temperature</th>\n",
       "      <th>Humidity</th>\n",
       "      <th>pH_Value</th>\n",
       "      <th>Rainfall</th>\n",
       "      <th>Crop</th>\n",
       "    </tr>\n",
       "  </thead>\n",
       "  <tbody>\n",
       "    <tr>\n",
       "      <th>0</th>\n",
       "      <td>90</td>\n",
       "      <td>42</td>\n",
       "      <td>43</td>\n",
       "      <td>20.879744</td>\n",
       "      <td>82.002744</td>\n",
       "      <td>6.502985</td>\n",
       "      <td>202.935536</td>\n",
       "      <td>Rice</td>\n",
       "    </tr>\n",
       "    <tr>\n",
       "      <th>1</th>\n",
       "      <td>85</td>\n",
       "      <td>58</td>\n",
       "      <td>41</td>\n",
       "      <td>21.770462</td>\n",
       "      <td>80.319644</td>\n",
       "      <td>7.038096</td>\n",
       "      <td>226.655537</td>\n",
       "      <td>Rice</td>\n",
       "    </tr>\n",
       "    <tr>\n",
       "      <th>2</th>\n",
       "      <td>60</td>\n",
       "      <td>55</td>\n",
       "      <td>44</td>\n",
       "      <td>23.004459</td>\n",
       "      <td>82.320763</td>\n",
       "      <td>7.840207</td>\n",
       "      <td>263.964248</td>\n",
       "      <td>Rice</td>\n",
       "    </tr>\n",
       "    <tr>\n",
       "      <th>3</th>\n",
       "      <td>74</td>\n",
       "      <td>35</td>\n",
       "      <td>40</td>\n",
       "      <td>26.491096</td>\n",
       "      <td>80.158363</td>\n",
       "      <td>6.980401</td>\n",
       "      <td>242.864034</td>\n",
       "      <td>Rice</td>\n",
       "    </tr>\n",
       "    <tr>\n",
       "      <th>4</th>\n",
       "      <td>78</td>\n",
       "      <td>42</td>\n",
       "      <td>42</td>\n",
       "      <td>20.130175</td>\n",
       "      <td>81.604873</td>\n",
       "      <td>7.628473</td>\n",
       "      <td>262.717340</td>\n",
       "      <td>Rice</td>\n",
       "    </tr>\n",
       "    <tr>\n",
       "      <th>...</th>\n",
       "      <td>...</td>\n",
       "      <td>...</td>\n",
       "      <td>...</td>\n",
       "      <td>...</td>\n",
       "      <td>...</td>\n",
       "      <td>...</td>\n",
       "      <td>...</td>\n",
       "      <td>...</td>\n",
       "    </tr>\n",
       "    <tr>\n",
       "      <th>2195</th>\n",
       "      <td>107</td>\n",
       "      <td>34</td>\n",
       "      <td>32</td>\n",
       "      <td>26.774637</td>\n",
       "      <td>66.413269</td>\n",
       "      <td>6.780064</td>\n",
       "      <td>177.774507</td>\n",
       "      <td>Coffee</td>\n",
       "    </tr>\n",
       "    <tr>\n",
       "      <th>2196</th>\n",
       "      <td>99</td>\n",
       "      <td>15</td>\n",
       "      <td>27</td>\n",
       "      <td>27.417112</td>\n",
       "      <td>56.636362</td>\n",
       "      <td>6.086922</td>\n",
       "      <td>127.924610</td>\n",
       "      <td>Coffee</td>\n",
       "    </tr>\n",
       "    <tr>\n",
       "      <th>2197</th>\n",
       "      <td>118</td>\n",
       "      <td>33</td>\n",
       "      <td>30</td>\n",
       "      <td>24.131797</td>\n",
       "      <td>67.225123</td>\n",
       "      <td>6.362608</td>\n",
       "      <td>173.322839</td>\n",
       "      <td>Coffee</td>\n",
       "    </tr>\n",
       "    <tr>\n",
       "      <th>2198</th>\n",
       "      <td>117</td>\n",
       "      <td>32</td>\n",
       "      <td>34</td>\n",
       "      <td>26.272418</td>\n",
       "      <td>52.127394</td>\n",
       "      <td>6.758793</td>\n",
       "      <td>127.175293</td>\n",
       "      <td>Coffee</td>\n",
       "    </tr>\n",
       "    <tr>\n",
       "      <th>2199</th>\n",
       "      <td>104</td>\n",
       "      <td>18</td>\n",
       "      <td>30</td>\n",
       "      <td>23.603016</td>\n",
       "      <td>60.396475</td>\n",
       "      <td>6.779833</td>\n",
       "      <td>140.937042</td>\n",
       "      <td>Coffee</td>\n",
       "    </tr>\n",
       "  </tbody>\n",
       "</table>\n",
       "<p>2200 rows × 8 columns</p>\n",
       "</div>"
      ],
      "text/plain": [
       "      Nitrogen  Phosphorus  Potassium  Temperature   Humidity  pH_Value  \\\n",
       "0           90          42         43    20.879744  82.002744  6.502985   \n",
       "1           85          58         41    21.770462  80.319644  7.038096   \n",
       "2           60          55         44    23.004459  82.320763  7.840207   \n",
       "3           74          35         40    26.491096  80.158363  6.980401   \n",
       "4           78          42         42    20.130175  81.604873  7.628473   \n",
       "...        ...         ...        ...          ...        ...       ...   \n",
       "2195       107          34         32    26.774637  66.413269  6.780064   \n",
       "2196        99          15         27    27.417112  56.636362  6.086922   \n",
       "2197       118          33         30    24.131797  67.225123  6.362608   \n",
       "2198       117          32         34    26.272418  52.127394  6.758793   \n",
       "2199       104          18         30    23.603016  60.396475  6.779833   \n",
       "\n",
       "        Rainfall    Crop  \n",
       "0     202.935536    Rice  \n",
       "1     226.655537    Rice  \n",
       "2     263.964248    Rice  \n",
       "3     242.864034    Rice  \n",
       "4     262.717340    Rice  \n",
       "...          ...     ...  \n",
       "2195  177.774507  Coffee  \n",
       "2196  127.924610  Coffee  \n",
       "2197  173.322839  Coffee  \n",
       "2198  127.175293  Coffee  \n",
       "2199  140.937042  Coffee  \n",
       "\n",
       "[2200 rows x 8 columns]"
      ]
     },
     "execution_count": 3,
     "metadata": {},
     "output_type": "execute_result"
    }
   ],
   "source": [
    "data = pd.read_csv('/kaggle/input/crop-recommendation-dataset/Crop_Recommendation.csv')\n",
    "data"
   ]
  },
  {
   "cell_type": "code",
   "execution_count": 4,
   "metadata": {
    "execution": {
     "iopub.execute_input": "2024-11-08T06:18:14.280800Z",
     "iopub.status.busy": "2024-11-08T06:18:14.279874Z",
     "iopub.status.idle": "2024-11-08T06:18:14.358283Z",
     "shell.execute_reply": "2024-11-08T06:18:14.357318Z",
     "shell.execute_reply.started": "2024-11-08T06:18:14.280763Z"
    },
    "trusted": true
   },
   "outputs": [
    {
     "name": "stdout",
     "output_type": "stream",
     "text": [
      "<class 'cudf.core.dataframe.DataFrame'>\n",
      "RangeIndex: 2200 entries, 0 to 2199\n",
      "Data columns (total 8 columns):\n",
      " #   Column       Non-Null Count  Dtype\n",
      "---  ------       --------------  -----\n",
      " 0   Nitrogen     2200 non-null   int64\n",
      " 1   Phosphorus   2200 non-null   int64\n",
      " 2   Potassium    2200 non-null   int64\n",
      " 3   Temperature  2200 non-null   float64\n",
      " 4   Humidity     2200 non-null   float64\n",
      " 5   pH_Value     2200 non-null   float64\n",
      " 6   Rainfall     2200 non-null   float64\n",
      " 7   Crop         2200 non-null   object\n",
      "dtypes: float64(4), int64(3), object(1)\n",
      "memory usage: 144.2+ KB\n"
     ]
    }
   ],
   "source": [
    "data.info()"
   ]
  },
  {
   "cell_type": "code",
   "execution_count": 5,
   "metadata": {
    "execution": {
     "iopub.execute_input": "2024-11-08T06:18:14.360565Z",
     "iopub.status.busy": "2024-11-08T06:18:14.360265Z",
     "iopub.status.idle": "2024-11-08T06:18:14.391881Z",
     "shell.execute_reply": "2024-11-08T06:18:14.390930Z",
     "shell.execute_reply.started": "2024-11-08T06:18:14.360533Z"
    },
    "trusted": true
   },
   "outputs": [
    {
     "data": {
      "text/plain": [
       "Nitrogen       0\n",
       "Phosphorus     0\n",
       "Potassium      0\n",
       "Temperature    0\n",
       "Humidity       0\n",
       "pH_Value       0\n",
       "Rainfall       0\n",
       "Crop           0\n",
       "dtype: int64"
      ]
     },
     "execution_count": 5,
     "metadata": {},
     "output_type": "execute_result"
    }
   ],
   "source": [
    "data.isna().sum()"
   ]
  },
  {
   "cell_type": "code",
   "execution_count": 6,
   "metadata": {
    "execution": {
     "iopub.execute_input": "2024-11-08T06:18:14.393500Z",
     "iopub.status.busy": "2024-11-08T06:18:14.393196Z",
     "iopub.status.idle": "2024-11-08T06:18:14.399048Z",
     "shell.execute_reply": "2024-11-08T06:18:14.398099Z",
     "shell.execute_reply.started": "2024-11-08T06:18:14.393466Z"
    },
    "trusted": true
   },
   "outputs": [],
   "source": [
    "encoder = LabelEncoder()"
   ]
  },
  {
   "cell_type": "code",
   "execution_count": 7,
   "metadata": {
    "execution": {
     "iopub.execute_input": "2024-11-08T06:18:14.400551Z",
     "iopub.status.busy": "2024-11-08T06:18:14.400231Z",
     "iopub.status.idle": "2024-11-08T06:18:14.811916Z",
     "shell.execute_reply": "2024-11-08T06:18:14.810842Z",
     "shell.execute_reply.started": "2024-11-08T06:18:14.400516Z"
    },
    "trusted": true
   },
   "outputs": [],
   "source": [
    "x = data.drop(columns='Crop')\n",
    "y = encoder.fit_transform(data['Crop'])"
   ]
  },
  {
   "cell_type": "code",
   "execution_count": 8,
   "metadata": {
    "execution": {
     "iopub.execute_input": "2024-11-08T06:18:14.813750Z",
     "iopub.status.busy": "2024-11-08T06:18:14.813334Z",
     "iopub.status.idle": "2024-11-08T06:18:21.901773Z",
     "shell.execute_reply": "2024-11-08T06:18:21.900661Z",
     "shell.execute_reply.started": "2024-11-08T06:18:14.813706Z"
    },
    "trusted": true
   },
   "outputs": [],
   "source": [
    "x_train , x_test , y_train , y_test = train_test_split(x,y,test_size=0.3,random_state=23,shuffle=True,stratify=y)"
   ]
  },
  {
   "cell_type": "code",
   "execution_count": 21,
   "metadata": {
    "execution": {
     "iopub.execute_input": "2024-11-08T06:29:40.700488Z",
     "iopub.status.busy": "2024-11-08T06:29:40.700081Z",
     "iopub.status.idle": "2024-11-08T06:29:40.705630Z",
     "shell.execute_reply": "2024-11-08T06:29:40.704556Z",
     "shell.execute_reply.started": "2024-11-08T06:29:40.700448Z"
    },
    "trusted": true
   },
   "outputs": [],
   "source": [
    "LR = LogisticRegression()"
   ]
  },
  {
   "cell_type": "code",
   "execution_count": 22,
   "metadata": {
    "execution": {
     "iopub.execute_input": "2024-11-08T06:29:40.942238Z",
     "iopub.status.busy": "2024-11-08T06:29:40.941342Z",
     "iopub.status.idle": "2024-11-08T06:29:41.645854Z",
     "shell.execute_reply": "2024-11-08T06:29:41.644815Z",
     "shell.execute_reply.started": "2024-11-08T06:29:40.942195Z"
    },
    "trusted": true
   },
   "outputs": [
    {
     "name": "stdout",
     "output_type": "stream",
     "text": [
      "[W] [06:29:41.639421] L-BFGS: max iterations reached\n",
      "[W] [06:29:41.639781] Maximum iterations reached before solver is converged. To increase model accuracy you can increase the number of iterations (max_iter) or improve the scaling of the input data.\n"
     ]
    },
    {
     "data": {
      "text/html": [
       "<style>#sk-container-id-3 {color: black;background-color: white;}#sk-container-id-3 pre{padding: 0;}#sk-container-id-3 div.sk-toggleable {background-color: white;}#sk-container-id-3 label.sk-toggleable__label {cursor: pointer;display: block;width: 100%;margin-bottom: 0;padding: 0.3em;box-sizing: border-box;text-align: center;}#sk-container-id-3 label.sk-toggleable__label-arrow:before {content: \"▸\";float: left;margin-right: 0.25em;color: #696969;}#sk-container-id-3 label.sk-toggleable__label-arrow:hover:before {color: black;}#sk-container-id-3 div.sk-estimator:hover label.sk-toggleable__label-arrow:before {color: black;}#sk-container-id-3 div.sk-toggleable__content {max-height: 0;max-width: 0;overflow: hidden;text-align: left;background-color: #f0f8ff;}#sk-container-id-3 div.sk-toggleable__content pre {margin: 0.2em;color: black;border-radius: 0.25em;background-color: #f0f8ff;}#sk-container-id-3 input.sk-toggleable__control:checked~div.sk-toggleable__content {max-height: 200px;max-width: 100%;overflow: auto;}#sk-container-id-3 input.sk-toggleable__control:checked~label.sk-toggleable__label-arrow:before {content: \"▾\";}#sk-container-id-3 div.sk-estimator input.sk-toggleable__control:checked~label.sk-toggleable__label {background-color: #d4ebff;}#sk-container-id-3 div.sk-label input.sk-toggleable__control:checked~label.sk-toggleable__label {background-color: #d4ebff;}#sk-container-id-3 input.sk-hidden--visually {border: 0;clip: rect(1px 1px 1px 1px);clip: rect(1px, 1px, 1px, 1px);height: 1px;margin: -1px;overflow: hidden;padding: 0;position: absolute;width: 1px;}#sk-container-id-3 div.sk-estimator {font-family: monospace;background-color: #f0f8ff;border: 1px dotted black;border-radius: 0.25em;box-sizing: border-box;margin-bottom: 0.5em;}#sk-container-id-3 div.sk-estimator:hover {background-color: #d4ebff;}#sk-container-id-3 div.sk-parallel-item::after {content: \"\";width: 100%;border-bottom: 1px solid gray;flex-grow: 1;}#sk-container-id-3 div.sk-label:hover label.sk-toggleable__label {background-color: #d4ebff;}#sk-container-id-3 div.sk-serial::before {content: \"\";position: absolute;border-left: 1px solid gray;box-sizing: border-box;top: 0;bottom: 0;left: 50%;z-index: 0;}#sk-container-id-3 div.sk-serial {display: flex;flex-direction: column;align-items: center;background-color: white;padding-right: 0.2em;padding-left: 0.2em;position: relative;}#sk-container-id-3 div.sk-item {position: relative;z-index: 1;}#sk-container-id-3 div.sk-parallel {display: flex;align-items: stretch;justify-content: center;background-color: white;position: relative;}#sk-container-id-3 div.sk-item::before, #sk-container-id-3 div.sk-parallel-item::before {content: \"\";position: absolute;border-left: 1px solid gray;box-sizing: border-box;top: 0;bottom: 0;left: 50%;z-index: -1;}#sk-container-id-3 div.sk-parallel-item {display: flex;flex-direction: column;z-index: 1;position: relative;background-color: white;}#sk-container-id-3 div.sk-parallel-item:first-child::after {align-self: flex-end;width: 50%;}#sk-container-id-3 div.sk-parallel-item:last-child::after {align-self: flex-start;width: 50%;}#sk-container-id-3 div.sk-parallel-item:only-child::after {width: 0;}#sk-container-id-3 div.sk-dashed-wrapped {border: 1px dashed gray;margin: 0 0.4em 0.5em 0.4em;box-sizing: border-box;padding-bottom: 0.4em;background-color: white;}#sk-container-id-3 div.sk-label label {font-family: monospace;font-weight: bold;display: inline-block;line-height: 1.2em;}#sk-container-id-3 div.sk-label-container {text-align: center;}#sk-container-id-3 div.sk-container {/* jupyter's `normalize.less` sets `[hidden] { display: none; }` but bootstrap.min.css set `[hidden] { display: none !important; }` so we also need the `!important` here to be able to override the default hidden behavior on the sphinx rendered scikit-learn.org. See: https://github.com/scikit-learn/scikit-learn/issues/21755 */display: inline-block !important;position: relative;}#sk-container-id-3 div.sk-text-repr-fallback {display: none;}</style><div id=\"sk-container-id-3\" class=\"sk-top-container\"><div class=\"sk-text-repr-fallback\"><pre>LogisticRegression()</pre><b>In a Jupyter environment, please rerun this cell to show the HTML representation or trust the notebook. <br />On GitHub, the HTML representation is unable to render, please try loading this page with nbviewer.org.</b></div><div class=\"sk-container\" hidden><div class=\"sk-item\"><div class=\"sk-estimator sk-toggleable\"><input class=\"sk-toggleable__control sk-hidden--visually\" id=\"sk-estimator-id-3\" type=\"checkbox\" checked><label for=\"sk-estimator-id-3\" class=\"sk-toggleable__label sk-toggleable__label-arrow\">LogisticRegression</label><div class=\"sk-toggleable__content\"><pre>LogisticRegression()</pre></div></div></div></div></div>"
      ],
      "text/plain": [
       "LogisticRegression()"
      ]
     },
     "execution_count": 22,
     "metadata": {},
     "output_type": "execute_result"
    }
   ],
   "source": [
    "LR.fit(x_train,y_train)"
   ]
  },
  {
   "cell_type": "code",
   "execution_count": 38,
   "metadata": {
    "execution": {
     "iopub.execute_input": "2024-11-08T06:36:03.758021Z",
     "iopub.status.busy": "2024-11-08T06:36:03.757628Z",
     "iopub.status.idle": "2024-11-08T06:36:07.922595Z",
     "shell.execute_reply": "2024-11-08T06:36:07.921587Z",
     "shell.execute_reply.started": "2024-11-08T06:36:03.757985Z"
    },
    "trusted": true
   },
   "outputs": [
    {
     "name": "stdout",
     "output_type": "stream",
     "text": [
      "[[30  0  0  0  0  0  0  0  0  0  0  0  0  0  0  0  0  0  0  0  0  0]\n",
      " [ 0 30  0  0  0  0  0  0  0  0  0  0  0  0  0  0  0  0  0  0  0  0]\n",
      " [ 0  0 26  0  0  0  0  0  0  0  1  0  0  3  0  0  0  0  0  0  0  0]\n",
      " [ 0  0  0 30  0  0  0  0  0  0  0  0  0  0  0  0  0  0  0  0  0  0]\n",
      " [ 0  0  0  0 30  0  0  0  0  0  0  0  0  0  0  0  0  0  0  0  0  0]\n",
      " [ 0  0  0  0  0 30  0  0  0  0  0  0  0  0  0  0  0  0  0  0  0  0]\n",
      " [ 0  0  0  0  0  0 30  0  0  0  0  0  0  0  0  0  0  0  0  0  0  0]\n",
      " [ 0  0  0  0  0  0  0 30  0  0  0  0  0  0  0  0  0  0  0  0  0  0]\n",
      " [ 0  0  0  0  0  1  0  0 26  0  0  0  0  0  0  0  0  0  0  0  3  0]\n",
      " [ 0  0  0  0  0  0  0  0  0 30  0  0  0  0  0  0  0  0  0  0  0  0]\n",
      " [ 0  0  0  0  0  0  0  0  0  0 30  0  0  0  0  0  0  0  0  0  0  0]\n",
      " [ 0  0  0  0  0  0  4  0  0  0  0 26  0  0  0  0  0  0  0  0  0  0]\n",
      " [ 0  0  0  0  0  0  0  0  0  0  0  0 30  0  0  0  0  0  0  0  0  0]\n",
      " [ 0  0  4  0  0  0  0  0  0  0  0  0  0 26  0  0  0  0  0  0  0  0]\n",
      " [ 0  0  0  0  0  0  0  0  0  0  0  0  0  0 30  0  0  0  0  0  0  0]\n",
      " [ 0  0  0  0  0  0  0  0  0  0  0  0  0  0  0 30  0  0  0  0  0  0]\n",
      " [ 0  0  0  0  0  0  0  0  0  0  0  0  0  0  0  0 30  0  0  0  0  0]\n",
      " [ 0  0  0  0  0  0  0  0  0  0  0  0  0  0  0  0  0 30  0  0  0  0]\n",
      " [ 0  0  2  0  0  0  0  0  0  0  0  0  0  0  0  0  0  0 28  0  0  0]\n",
      " [ 0  0  0  0  0  0  0  0  0  0  0  0  0  0  0  0  0  0  0 30  0  0]\n",
      " [ 0  0  0  0  0  0  0  0  2  0  0  0  0  0  0  0  0  0  0  0 28  0]\n",
      " [ 0  0  0  0  0  0  0  0  0  0  0  0  0  0  0  0  0  0  0  0  0 30]]\n"
     ]
    }
   ],
   "source": [
    "# Convert y_test and y_pred to int32 or int64\n",
    "y_test = y_test.astype('int32')\n",
    "y_pred = y_pred.astype('int32')\n",
    "\n",
    "# Now calculate confusion matrix\n",
    "from cuml.metrics import confusion_matrix\n",
    "\n",
    "cm = confusion_matrix(y_test, y_pred)\n",
    "print(cm)\n"
   ]
  }
 ],
 "metadata": {
  "kaggle": {
   "accelerator": "nvidiaTeslaT4",
   "dataSources": [
    {
     "datasetId": 4933767,
     "sourceId": 8305330,
     "sourceType": "datasetVersion"
    }
   ],
   "dockerImageVersionId": 30787,
   "isGpuEnabled": true,
   "isInternetEnabled": true,
   "language": "python",
   "sourceType": "notebook"
  },
  "kernelspec": {
   "display_name": "Python 3",
   "language": "python",
   "name": "python3"
  },
  "language_info": {
   "codemirror_mode": {
    "name": "ipython",
    "version": 3
   },
   "file_extension": ".py",
   "mimetype": "text/x-python",
   "name": "python",
   "nbconvert_exporter": "python",
   "pygments_lexer": "ipython3",
   "version": "3.10.14"
  }
 },
 "nbformat": 4,
 "nbformat_minor": 4
}
