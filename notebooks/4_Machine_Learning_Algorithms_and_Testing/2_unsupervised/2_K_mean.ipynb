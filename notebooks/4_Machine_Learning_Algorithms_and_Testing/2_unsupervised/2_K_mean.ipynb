{
 "cells": [
  {
   "cell_type": "markdown",
   "metadata": {},
   "source": [
    "<center><img src=\"../../../images/k_means.png\" alt=\"error\" width=\"1000\"/></center>\n",
    "\n",
    "<center><img src=\"../../../images/k_mean_2.png\" alt=\"error\" width=\"1000\"/></center>"
   ]
  },
  {
   "cell_type": "code",
   "execution_count": 29,
   "metadata": {},
   "outputs": [],
   "source": [
    "import pandas as pd \n",
    "\n",
    "import matplotlib.pyplot as plt \n",
    "from sklearn.decomposition import PCA\n",
    "from sklearn.cluster import KMeans\n",
    "\n",
    "from sklearn.preprocessing import StandardScaler"
   ]
  },
  {
   "cell_type": "code",
   "execution_count": 30,
   "metadata": {},
   "outputs": [
    {
     "data": {
      "text/html": [
       "<div>\n",
       "<style scoped>\n",
       "    .dataframe tbody tr th:only-of-type {\n",
       "        vertical-align: middle;\n",
       "    }\n",
       "\n",
       "    .dataframe tbody tr th {\n",
       "        vertical-align: top;\n",
       "    }\n",
       "\n",
       "    .dataframe thead th {\n",
       "        text-align: right;\n",
       "    }\n",
       "</style>\n",
       "<table border=\"1\" class=\"dataframe\">\n",
       "  <thead>\n",
       "    <tr style=\"text-align: right;\">\n",
       "      <th></th>\n",
       "      <th>Animal</th>\n",
       "      <th>water</th>\n",
       "      <th>protein</th>\n",
       "      <th>fat</th>\n",
       "      <th>lactose</th>\n",
       "      <th>ash</th>\n",
       "    </tr>\n",
       "  </thead>\n",
       "  <tbody>\n",
       "    <tr>\n",
       "      <th>0</th>\n",
       "      <td>HORSE</td>\n",
       "      <td>90.1</td>\n",
       "      <td>2.6</td>\n",
       "      <td>1.0</td>\n",
       "      <td>6.9</td>\n",
       "      <td>0.35</td>\n",
       "    </tr>\n",
       "    <tr>\n",
       "      <th>1</th>\n",
       "      <td>ORANGUTAN</td>\n",
       "      <td>88.5</td>\n",
       "      <td>1.4</td>\n",
       "      <td>3.5</td>\n",
       "      <td>6.0</td>\n",
       "      <td>0.24</td>\n",
       "    </tr>\n",
       "    <tr>\n",
       "      <th>2</th>\n",
       "      <td>MONKEY</td>\n",
       "      <td>88.4</td>\n",
       "      <td>2.2</td>\n",
       "      <td>2.7</td>\n",
       "      <td>6.4</td>\n",
       "      <td>0.18</td>\n",
       "    </tr>\n",
       "    <tr>\n",
       "      <th>3</th>\n",
       "      <td>DONKEY</td>\n",
       "      <td>90.3</td>\n",
       "      <td>1.7</td>\n",
       "      <td>1.4</td>\n",
       "      <td>6.2</td>\n",
       "      <td>0.40</td>\n",
       "    </tr>\n",
       "    <tr>\n",
       "      <th>4</th>\n",
       "      <td>HIPPO</td>\n",
       "      <td>90.4</td>\n",
       "      <td>0.6</td>\n",
       "      <td>4.5</td>\n",
       "      <td>4.4</td>\n",
       "      <td>0.10</td>\n",
       "    </tr>\n",
       "  </tbody>\n",
       "</table>\n",
       "</div>"
      ],
      "text/plain": [
       "      Animal  water  protein  fat  lactose   ash\n",
       "0      HORSE   90.1      2.6  1.0      6.9  0.35\n",
       "1  ORANGUTAN   88.5      1.4  3.5      6.0  0.24\n",
       "2     MONKEY   88.4      2.2  2.7      6.4  0.18\n",
       "3     DONKEY   90.3      1.7  1.4      6.2  0.40\n",
       "4      HIPPO   90.4      0.6  4.5      4.4  0.10"
      ]
     },
     "execution_count": 30,
     "metadata": {},
     "output_type": "execute_result"
    }
   ],
   "source": [
    "data = pd.read_csv('../../../datasets/milk.csv')\n",
    "data.head()"
   ]
  },
  {
   "cell_type": "code",
   "execution_count": 31,
   "metadata": {},
   "outputs": [],
   "source": [
    "cdata = data.drop(columns='Animal')"
   ]
  },
  {
   "cell_type": "code",
   "execution_count": 32,
   "metadata": {},
   "outputs": [],
   "source": [
    "scalar = StandardScaler()"
   ]
  },
  {
   "cell_type": "code",
   "execution_count": 33,
   "metadata": {},
   "outputs": [
    {
     "data": {
      "text/plain": [
       "array([[ 0.94880628, -1.00929078, -0.90320785,  1.54221661, -1.03755398],\n",
       "       [ 0.82140698, -1.34460333, -0.66061872,  1.04077335, -1.25994474],\n",
       "       [ 0.81344452, -1.12106163, -0.73824724,  1.26363702, -1.38124879],\n",
       "       [ 0.96473119, -1.26077519, -0.86439359,  1.15220518, -0.93646727],\n",
       "       [ 0.97269365, -1.56814503, -0.56358307,  0.14931866, -1.54298752],\n",
       "       [ 0.75770733, -0.75780637, -0.67032229,  0.37218233, -0.30972968],\n",
       "       [ 0.69400768, -0.3945511 , -0.83528289,  0.87362559,  0.07439982],\n",
       "       [ 0.31180978, -0.08718126, -0.23366185,  0.31646641, -0.16820828],\n",
       "       [ 0.29588487,  0.33195943, -0.30158681, -0.79785195, -0.02668689],\n",
       "       [ 0.2719975 ,  1.08641267, -0.38891889,  0.14931866, -0.22886031],\n",
       "       [ 0.2719975 ,  0.10841772, -0.42773316,  0.42789825,  0.13505184],\n",
       "       [ 0.66215786, -0.64603552, -0.68972942,  0.81790968, -0.1277736 ],\n",
       "       [ 0.94084382, -1.17694705, -0.82557933,  0.76219376, -0.79494588],\n",
       "       [ 0.36754698,  0.24813129, -0.50536168, -0.24069277,  0.47874665],\n",
       "       [ 0.63827049, -0.89751993, -0.53447237,  0.65076192, -0.32994702],\n",
       "       [ 0.30384733, -0.1710094 , -0.37921533,  0.31646641,  0.09461716],\n",
       "       [-0.15001267,  0.86287096, -0.07840481, -0.63070419,  0.68092007],\n",
       "       [-0.59591022, -0.72986365,  0.70758398,  0.81790968, -0.47146841],\n",
       "       [-0.54813548,  1.70115234,  0.27092354, -1.24357929,  2.90482766],\n",
       "       [-0.45258601,  0.83492825,  0.22240572, -0.46355644,  1.08526691],\n",
       "       [-0.97810812,  1.1702408 ,  0.91135885, -0.85356786,  1.08526691],\n",
       "       [-1.06569514,  1.25406894,  0.96958024, -0.90928378,  1.08526691],\n",
       "       [-1.06569514,  1.36583979,  1.05691232, -1.41072704,  1.69178716],\n",
       "       [-2.53078707,  0.97464182,  3.07525389, -2.30218173, -0.02668689],\n",
       "       [-2.65022392,  1.22612623,  2.38630076, -1.80073847, -0.67364183]])"
      ]
     },
     "execution_count": 33,
     "metadata": {},
     "output_type": "execute_result"
    }
   ],
   "source": [
    "scaled_data = scalar.fit_transform(cdata) # scaling the data so that all values are in same range \n",
    "scaled_data "
   ]
  },
  {
   "cell_type": "code",
   "execution_count": 34,
   "metadata": {},
   "outputs": [],
   "source": [
    "kmeans = KMeans()"
   ]
  },
  {
   "cell_type": "code",
   "execution_count": 47,
   "metadata": {},
   "outputs": [],
   "source": [
    "cluster = [2,4,6,8,10,12,14,16,18,20,22]\n",
    "scores = []\n",
    "\n",
    "for i in cluster:\n",
    "    kmeans = KMeans(n_clusters=i,random_state=23)\n",
    "    kmeans.fit(scaled_data)\n",
    "    scores.append(kmeans.inertia_)"
   ]
  },
  {
   "cell_type": "code",
   "execution_count": 48,
   "metadata": {},
   "outputs": [
    {
     "name": "stdout",
     "output_type": "stream",
     "text": [
      "cluste :  [2, 4, 6, 8, 10, 12, 14, 16, 18, 20, 22]\n",
      "scores :  [49.854659507364545, 19.019421499957, 11.770467803705687, 6.4821634282025915, 4.02197692866284, 2.5277876186995574, 1.6069184925021194, 0.9617102993099799, 0.4161930198751282, 0.27431651317389594, 0.13551129303180764]\n"
     ]
    }
   ],
   "source": [
    "print(\"cluste : \",cluster)\n",
    "print(\"scores : \",scores)"
   ]
  },
  {
   "cell_type": "code",
   "execution_count": 89,
   "metadata": {},
   "outputs": [
    {
     "data": {
      "image/png": "[encoded data removed]",
      "text/plain": [
       "<Figure size 640x480 with 1 Axes>"
      ]
     },
     "metadata": {},
     "output_type": "display_data"
    }
   ],
   "source": [
    "plt.scatter(cluster, scores, c='red')\n",
    "plt.plot(cluster, scores, c=\"blue\")\n",
    "plt.title(\"Elbow Plot\")\n",
    "plt.xlabel(\"No. of Clusters\")\n",
    "plt.ylabel(\"WSS\")\n",
    "plt.show()"
   ]
  },
  {
   "cell_type": "markdown",
   "metadata": {},
   "source": [
    "### NOTE : Lower value is better for WSS , but we choose value after which WSS change is minimal\n",
    "#### After 10 value for no of cluster the results were not changing "
   ]
  },
  {
   "cell_type": "code",
   "execution_count": 78,
   "metadata": {},
   "outputs": [
    {
     "data": {
      "text/plain": [
       "array([0, 0, 0, 0, 0, 6, 6, 7, 3, 9, 7, 6, 0, 3, 6, 7, 8, 5, 1, 8, 4, 4,\n",
       "       4, 2, 2], dtype=int32)"
      ]
     },
     "execution_count": 78,
     "metadata": {},
     "output_type": "execute_result"
    }
   ],
   "source": [
    "kmeans = KMeans(n_clusters=10,random_state=23)\n",
    "kmeans.fit(scaled_data)\n",
    "kmeans.predict(scaled_data)"
   ]
  },
  {
   "cell_type": "code",
   "execution_count": 79,
   "metadata": {},
   "outputs": [],
   "source": [
    "from sklearn.decomposition import PCA"
   ]
  },
  {
   "cell_type": "code",
   "execution_count": 80,
   "metadata": {},
   "outputs": [],
   "source": [
    "pca = PCA(n_components=2) "
   ]
  },
  {
   "cell_type": "code",
   "execution_count": 81,
   "metadata": {},
   "outputs": [],
   "source": [
    "pca_data = pca.fit_transform(scaled_data)\n",
    "labels = kmeans.predict(scaled_data)"
   ]
  },
  {
   "cell_type": "code",
   "execution_count": 86,
   "metadata": {},
   "outputs": [
    {
     "data": {
      "text/plain": [
       "<Axes: >"
      ]
     },
     "execution_count": 86,
     "metadata": {},
     "output_type": "execute_result"
    },
    {
     "data": {
      "image/png": "[encoded data removed]",
      "text/plain": [
       "<Figure size 1100x700 with 1 Axes>"
      ]
     },
     "metadata": {},
     "output_type": "display_data"
    }
   ],
   "source": [
    "import seaborn as sns \n",
    "\n",
    "plt.figure(figsize=(11,7))\n",
    "\n",
    "sns.scatterplot(x=pca_data[:,0],\n",
    "            y=pca_data[:,1],\n",
    "            hue=labels,palette='husl')\n"
   ]
  },
  {
   "cell_type": "markdown",
   "metadata": {},
   "source": [
    "#### some points maybe wrongly classified to different / further cluster "
   ]
  }
 ],
 "metadata": {
  "kernelspec": {
   "display_name": "NeuralNet",
   "language": "python",
   "name": "python3"
  },
  "language_info": {
   "codemirror_mode": {
    "name": "ipython",
    "version": 3
   },
   "file_extension": ".py",
   "mimetype": "text/x-python",
   "name": "python",
   "nbconvert_exporter": "python",
   "pygments_lexer": "ipython3",
   "version": "3.11.10"
  }
 },
 "nbformat": 4,
 "nbformat_minor": 2
}
