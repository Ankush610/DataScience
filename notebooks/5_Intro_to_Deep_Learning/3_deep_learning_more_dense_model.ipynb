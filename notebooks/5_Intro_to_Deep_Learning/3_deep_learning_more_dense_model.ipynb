{
 "cells": [
  {
   "cell_type": "code",
   "execution_count": null,
   "metadata": {
    "vscode": {
     "languageId": "plaintext"
    }
   },
   "outputs": [],
   "source": [
    "import torch\n",
    "import torch.nn as nn\n",
    "\n",
    "class ClassificationModel2(nn.Module):\n",
    "    def __init__(self):\n",
    "        super().__init__()\n",
    "        \n",
    "        # First layer weights and bias\n",
    "        self.weights1 = nn.Parameter(torch.randn((1,2), requires_grad=True, dtype=torch.float))  # 2 input features\n",
    "        self.bias1 = nn.Parameter(torch.randn(1, requires_grad=True, dtype=torch.float))\n",
    "        \n",
    "        # Second layer weights and bias\n",
    "        self.weights2 = nn.Parameter(torch.randn(1, requires_grad=True, dtype=torch.float))  # 1 output\n",
    "        self.bias2 = nn.Parameter(torch.randn(1, requires_grad=True, dtype=torch.float))\n",
    "\n",
    "        # Activation functions\n",
    "        self.sigmoid = nn.Sigmoid()\n",
    "        \n",
    "    def forward(self, x):\n",
    "        # First layer\n",
    "        z1 = torch.matmul(self.weights1, x) + self.bias1  # x should be of shape (batch_size, 2)\n",
    "        z1 = self.sigmoid(z1)  # Activating first layer output\n",
    "\n",
    "        # Second layer\n",
    "        z2 = torch.matmul(self.weights2,z1) + self.bias2  # z1 is of shape (batch_size, 1)\n",
    "        z2 = self.sigmoid(z2)  # Activating final output\n",
    "\n",
    "        return z2  # Output shape will be (batch_size, 1)\n",
    "\n"
   ]
  }
 ],
 "metadata": {
  "language_info": {
   "name": "python"
  }
 },
 "nbformat": 4,
 "nbformat_minor": 2
}
