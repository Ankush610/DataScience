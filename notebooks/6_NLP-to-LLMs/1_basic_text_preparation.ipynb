{
 "cells": [
  {
   "cell_type": "markdown",
   "id": "bce60f48",
   "metadata": {},
   "source": [
    "### **<span style=\"color: #28B463;\">What is open()?</span>**\n",
    "\n",
    "* **Definition:</span>** The `open()` function in Python is used to open files for reading, writing, or both.\n",
    "* **<span style=\"color: #2E86C1;\">Key Point:</span>** It returns a file object that provides methods to interact with the file.\n",
    "\n",
    "**<span style=\"color: #2E86C1;\">Tip:</span>** Always use `with open()` to handle files — it closes the file automatically."
   ]
  },
  {
   "cell_type": "code",
   "execution_count": 14,
   "id": "7f88c44f",
   "metadata": {},
   "outputs": [
    {
     "name": "stdout",
     "output_type": "stream",
     "text": [
      "Hello Ankush,  \n",
      "\n",
      "Please contact John Doe at john.doe@example.com or jane_doe99@mail.co.uk.  \n",
      "Our website: https://www.example.com/path?query=123 and backup: http://sub.example.org.  \n",
      "\n",
      "Order IDs: ORD-2025-0001, ORD-2024-9876.  \n",
      "Invoice total: $1,299.99 USD, Discount: 15%, Weight: 2.5kg, Height: 180cm.  \n",
      "\n",
      "Meeting scheduled on 13-08-2025 at 10:45 AM.  \n",
      "Backup date: 2025/08/20 or 20 Aug 2025.  \n",
      "\n",
      "Phone numbers: +91-9876543210, (022) 2345-6789, 555-1234.  \n",
      "\n",
      "Random strings: abc123xyz, XY_42_test, A1B2C3.  \n",
      "\n",
      "Note: Some emails may be fake@example, some links without protocol: www.fake-site.net.  \n"
     ]
    }
   ],
   "source": [
    "with open('../../datasets/samplefile.txt','r+') as file:\n",
    "    text = file.read()\n",
    "\n",
    "print(text)"
   ]
  },
  {
   "cell_type": "markdown",
   "id": "967ee068",
   "metadata": {},
   "source": [
    "## **Open Modes Available**\n",
    "\n",
    "| Mode  | Meaning                                 | File must exist? | Overwrites file? | Allows Reading? | Allows Writing? | Cursor Position on Open |\n",
    "|-------|-----------------------------------------|------------------|------------------|-----------------|-----------------|-------------------------|\n",
    "| `r`   | Read (text)                             | ✅ Yes           | ❌ No            | ✅ Yes          | ❌ No           | Beginning               |\n",
    "| `w`   | Write (text)                            | ❌ No            | ✅ Yes (truncates) | ❌ No           | ✅ Yes          | Beginning (truncates)   |\n",
    "| `a`   | Append (text)                           | ❌ No            | ❌ No            | ❌ No           | ✅ Yes          | End of file             |\n",
    "| `r+`  | Read and write (text)                   | ✅ Yes           | ❌ No            | ✅ Yes          | ✅ Yes          | Beginning               |\n",
    "| `w+`  | Write and read (text)                   | ❌ No            | ✅ Yes (truncates) | ✅ Yes          | ✅ Yes          | Beginning (truncates)   |\n",
    "| `a+`  | Append and read (text)                  | ❌ No            | ❌ No            | ✅ Yes          | ✅ Yes          | End (writes), can read anywhere |\n",
    "| `rb`  | Read (binary)                           | ✅ Yes           | ❌ No            | ✅ Yes          | ❌ No           | Beginning               |\n",
    "| `wb`  | Write (binary)                          | ❌ No            | ✅ Yes (truncates) | ❌ No           | ✅ Yes          | Beginning (truncates)   |\n",
    "| `ab`  | Append (binary)                         | ❌ No            | ❌ No            | ❌ No           | ✅ Yes          | End of file             |\n",
    "| `rb+` | Read and write (binary)                 | ✅ Yes           | ❌ No            | ✅ Yes          | ✅ Yes          | Beginning               |\n",
    "| `wb+` | Write and read (binary)                 | ❌ No            | ✅ Yes (truncates) | ✅ Yes          | ✅ Yes          | Beginning (truncates)   |\n",
    "| `ab+` | Append and read (binary)                | ❌ No            | ❌ No            | ✅ Yes          | ✅ Yes          | End (writes), can read anywhere |\n"
   ]
  },
  {
   "cell_type": "markdown",
   "id": "b7b8a5f0",
   "metadata": {},
   "source": [
    "## **Commonly Used File Object Methods**\n",
    "\n",
    "| Method                          | Description                                                                                 | Returns                         | Common Usage Example                         |\n",
    "|---------------------------------|---------------------------------------------------------------------------------------------|----------------------------------|-----------------------------------------------|\n",
    "| `file.read(size=-1)`            | Reads the entire file or up to `size` characters/bytes.                                     | `str` (text) or `bytes` (binary) | `data = f.read()`                             |\n",
    "| `file.readline(size=-1)`        | Reads one line from the file (up to `size` chars if specified).                             | `str` or `bytes`                 | `line = f.readline()`                         |\n",
    "| `file.readlines(hint=-1)`       | Reads all lines into a list (optional `hint` limits total chars read).                      | `list` of `str`/`bytes`          | `lines = f.readlines()`                       |\n",
    "| `file.write(string)`            | Writes a string (text mode) or bytes (binary mode) to the file.                             | Number of characters/bytes written | `f.write(\"Hello\")`                         |\n",
    "| `file.writelines(list_of_str)`  | Writes a list of strings to the file (no newline added automatically).                      | None                             | `f.writelines([\"A\\n\", \"B\\n\"])`                |\n",
    "| `file.seek(offset, whence=0)`   | Moves the file cursor to a position. `whence`: 0 = start, 1 = current, 2 = end.              | New cursor position (int)        | `f.seek(0)`                                   |\n",
    "| `file.tell()`                   | Returns the current cursor position in the file.                                            | Integer                          | `pos = f.tell()`                              |\n",
    "| `file.flush()`                  | Flushes the internal buffer, forcing write to disk immediately.                             | None                             | `f.flush()`                                   |\n",
    "| `file.truncate(size=None)`      | Truncates the file to `size` bytes (default: current position).                             | None                             | `f.truncate(0)`                               |\n",
    "| `file.close()`                  | Closes the file, freeing system resources.                                                  | None                             | `f.close()`                                   |\n",
    "| `file.__enter__()` / `__exit__()` | Context manager methods for use with `with` statements.                                    | File object / None               | `with open(...) as f:`                        |\n",
    "| `file.readable()`               | Checks if the file stream supports reading.                                                 | `bool`                           | `f.readable()`                                |\n",
    "| `file.writable()`               | Checks if the file stream supports writing.                                                 | `bool`                           | `f.writable()`                                |\n",
    "| `file.seekable()`               | Checks if the file stream supports `seek()`.                                                | `bool`                           | `f.seekable()`                                |\n"
   ]
  },
  {
   "cell_type": "markdown",
   "id": "0f79b40e",
   "metadata": {},
   "source": [
    "### **<span style=\"color: #28B463;\">What is Regex?</span>**\n",
    "\n",
    "* **Definition:</span>** Regex (Regular Expression) is a sequence of characters that defines a search pattern.\n",
    "* **<span style=\"color: #2E86C1;\">Key Point:</span>** Useful for pattern matching, text searching, and text manipulation.\n",
    "\n",
    "### **<span style=\"color: #28B463;\">Common Use Cases</span>**\n",
    "\n",
    "1. **Validation** – Emails, phone numbers, dates\n",
    "2. **Searching** – Find specific words or patterns in text\n",
    "3. **Data Cleaning** – Remove unwanted characters or whitespace"
   ]
  },
  {
   "cell_type": "code",
   "execution_count": 6,
   "id": "9cb06975",
   "metadata": {},
   "outputs": [
    {
     "name": "stdout",
     "output_type": "stream",
     "text": [
      "Printing all the words in the text file:\n",
      "['Hello', 'Ankush', 'Please', 'contact', 'John', 'Doe', 'at', 'john', 'doe', 'example', 'com', 'or', 'jane_doe99', 'mail', 'co', 'uk', 'Our', 'website', 'https', 'www', 'example', 'com', 'path', 'query', '123', 'and', 'backup', 'http', 'sub', 'example', 'org', 'Order', 'IDs', 'ORD', '2025', '0001', 'ORD', '2024', '9876', 'Invoice', 'total', '1', '299', '99', 'USD', 'Discount', '15', 'Weight', '2', '5kg', 'Height', '180cm', 'Meeting', 'scheduled', 'on', '13', '08', '2025', 'at', '10', '45', 'AM', 'Backup', 'date', '2025', '08', '20', 'or', '20', 'Aug', '2025', 'Phone', 'numbers', '91', '9876543210', '022', '2345', '6789', '555', '1234', 'Random', 'strings', 'abc123xyz', 'XY_42_test', 'A1B2C3', 'Note', 'Some', 'emails', 'may', 'be', 'fake', 'example', 'some', 'links', 'without', 'protocol', 'www', 'fake', 'site', 'net']\n"
     ]
    }
   ],
   "source": [
    "import re \n",
    "regex = re.findall(r'\\b\\w+\\b', text)\n",
    "print(\"Printing all the words in the text file:\")\n",
    "print(regex)"
   ]
  },
  {
   "cell_type": "markdown",
   "id": "1e03c106",
   "metadata": {},
   "source": [
    "## **<span style=\"color: #D35400; font-weight: bold;\">Basic Regex Patterns</span>**\n",
    "\n",
    "### **Fundamental Character Matching**\n",
    "\n",
    "| **Regex Pattern** | **What It Does** | **Use Case/Example** |\n",
    "|---|---|---|\n",
    "| `.` | Matches any single character except newline | Find any character: `a.c` matches \"abc\", \"axc\", \"a1c\" |\n",
    "| `^` | Matches start of string/line | Ensure string starts with specific pattern: `^Hello` |\n",
    "| `$` | Matches end of string/line | Ensure string ends with pattern: `world$` |\n",
    "| `*` | Matches 0 or more of preceding character | Find repeated characters: `a*` matches \"\", \"a\", \"aaa\" |\n",
    "| `+` | Matches 1 or more of preceding character | Ensure at least one: `a+` matches \"a\", \"aaa\" but not \"\" |\n",
    "| `?` | Matches 0 or 1 of preceding character | Optional character: `colou?r` matches \"color\" or \"colour\" |\n",
    "| `\\d` | Matches any digit (0-9) | Find numbers in text: `\\d+` finds \"123\" in \"abc123def\" |\n",
    "| `\\w` | Matches word characters (letters, digits, underscore) | Find words: `\\w+` matches \"hello\", \"test_123\" |\n",
    "| `\\s` | Matches whitespace characters (space, tab, newline) | Find spaces: `\\s+` finds multiple spaces or tabs |\n",
    "\n",
    "### **Character Classes**\n",
    "\n",
    "| **Regex Pattern** | **What It Does** | **Use Case/Example** |\n",
    "|---|---|---|\n",
    "| `[abc]` | Matches any character in brackets | Find specific letters: `[aeiou]` matches vowels |\n",
    "| `[^abc]` | Matches any character NOT in brackets | Find consonants: `[^aeiou]` matches non-vowels |\n",
    "| `[a-z]` | Matches any lowercase letter | Find lowercase: `[a-z]+` matches \"hello\" |\n",
    "| `[A-Z]` | Matches any uppercase letter | Find uppercase: `[A-Z]+` matches \"HELLO\" |\n",
    "| `[0-9]` | Matches any digit | Find numbers: `[0-9]+` same as `\\d+` |\n",
    "| `[a-zA-Z]` | Matches any letter (upper or lower) | Find letters only: `[a-zA-Z]+` matches \"Hello\" |\n",
    "\n",
    "### **Commonly Used Regex Methods**\n",
    "\n",
    "| Method                     | Description                                                                                             | Returns                                         | Example Usage                                |\n",
    "|----------------------------|---------------------------------------------------------------------------------------------------------|-------------------------------------------------|----------------------------------------------|\n",
    "| `re.search(pattern, string)` | Searches for the first location where the regex pattern matches in the string.                         | Match object or `None`                         | `re.search(r\"\\d+\", \"abc123xyz\")`             |\n",
    "| `re.match(pattern, string)`  | Checks for a match only at the beginning of the string.                                                | Match object or `None`                         | `re.match(r\"\\d+\", \"123abc\")`                 |\n",
    "| `re.fullmatch(pattern, string)` | Checks if the entire string matches the regex pattern.                                              | Match object or `None`                         | `re.fullmatch(r\"\\d+\", \"123\")`                |\n",
    "| `re.findall(pattern, string)` | Returns all non-overlapping matches of the pattern in the string as a list.                           | List of strings                                | `re.findall(r\"\\d+\", \"abc123xyz456\")`         |\n",
    "| `re.finditer(pattern, string)` | Returns an iterator yielding match objects for all non-overlapping matches.                          | Iterator of match objects                      | `for m in re.finditer(r\"\\d+\", \"abc123xyz456\")`|\n",
    "| `re.split(pattern, string)`    | Splits the string by the occurrences of the pattern.                                                 | List of strings                                | `re.split(r\"\\s+\", \"one two   three\")`        |\n",
    "| `re.sub(pattern, repl, string)`| Replaces occurrences of the pattern with the replacement string `repl`.                              | New string                                     | `re.sub(r\"\\d\", \"#\", \"abc123\")`               |\n",
    "| `re.subn(pattern, repl, string)`| Same as `re.sub()`, but returns a tuple `(new_string, number_of_subs_made)`.                         | Tuple (string, int)                            | `re.subn(r\"\\d\", \"#\", \"abc123\")`              |\n",
    "| `re.escape(string)`            | Escapes all non-alphanumeric characters in the string (useful for literals in patterns).             | Escaped string                                 | `re.escape(\"a.b*c\")`                         |\n",
    "| `re.compile(pattern)`          | Compiles a regex pattern into a regex object for repeated use (improves performance for multiple uses). | Regex object                                   | `pattern = re.compile(r\"\\d+\")`               |\n",
    "\n",
    "**<span style=\"color:red\">Note:</span>** You can use any AI like ChatGPT, Claude, etc... in the market to generate a regex query now, but knowing what regex is and where you can actually use it is important."
   ]
  }
 ],
 "metadata": {
  "kernelspec": {
   "display_name": "NeuralNet",
   "language": "python",
   "name": "python3"
  },
  "language_info": {
   "codemirror_mode": {
    "name": "ipython",
    "version": 3
   },
   "file_extension": ".py",
   "mimetype": "text/x-python",
   "name": "python",
   "nbconvert_exporter": "python",
   "pygments_lexer": "ipython3",
   "version": "3.11.10"
  }
 },
 "nbformat": 4,
 "nbformat_minor": 5
}
